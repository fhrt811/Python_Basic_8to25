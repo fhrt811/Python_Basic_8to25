{
 "cells": [
  {
   "cell_type": "code",
   "execution_count": null,
   "id": "170d7913",
   "metadata": {},
   "outputs": [],
   "source": [
    "Q1:\n",
    "Create a zoo.py file first. Define the hours() function, which prints the string 'Open 9-5 daily'.\n",
    "Then, use the interactive interpreter to import the zoo module and call its hours() function."
   ]
  },
  {
   "cell_type": "code",
   "execution_count": 8,
   "id": "12ce9236",
   "metadata": {},
   "outputs": [
    {
     "name": "stdout",
     "output_type": "stream",
     "text": [
      "#!/usr/bin/env python\n",
      "# coding: utf-8\n",
      "\n",
      "# In[1]:\n",
      "\n",
      "\n",
      "def hours():\n",
      "    print(\"Open 9-5 daily\")\n",
      "\n",
      "\n",
      "# In[ ]:\n",
      "\n",
      "\n",
      "\n",
      "\n"
     ]
    }
   ],
   "source": [
    "#Ans1:\n",
    "!type zoo.py"
   ]
  },
  {
   "cell_type": "code",
   "execution_count": 9,
   "id": "6d0c6bc7",
   "metadata": {},
   "outputs": [
    {
     "name": "stdout",
     "output_type": "stream",
     "text": [
      "Open 9-5 daily\n"
     ]
    }
   ],
   "source": [
    "import zoo\n",
    "zoo.hours()"
   ]
  },
  {
   "cell_type": "code",
   "execution_count": null,
   "id": "5849486d",
   "metadata": {},
   "outputs": [],
   "source": [
    "Q2:\n",
    "In the interactive interpreter, import the zoo module as menagerie and call its hours() function."
   ]
  },
  {
   "cell_type": "code",
   "execution_count": 10,
   "id": "54a326e9",
   "metadata": {},
   "outputs": [
    {
     "name": "stdout",
     "output_type": "stream",
     "text": [
      "Open 9-5 daily\n"
     ]
    }
   ],
   "source": [
    "#Ans2:\n",
    "import zoo as menagerie\n",
    "menagerie.hours()"
   ]
  },
  {
   "cell_type": "code",
   "execution_count": null,
   "id": "768356dc",
   "metadata": {},
   "outputs": [],
   "source": [
    "Q3:\n",
    "Using the interpreter, explicitly import and call the hours() function from zoo."
   ]
  },
  {
   "cell_type": "code",
   "execution_count": 12,
   "id": "0015b7ce",
   "metadata": {},
   "outputs": [
    {
     "name": "stdout",
     "output_type": "stream",
     "text": [
      "Open 9-5 daily\n"
     ]
    }
   ],
   "source": [
    "#ANs3:\n",
    "from zoo import hours\n",
    "hours()"
   ]
  },
  {
   "cell_type": "code",
   "execution_count": null,
   "id": "de963392",
   "metadata": {},
   "outputs": [],
   "source": [
    "Q4:\n",
    "Import the hours() function as info and call it."
   ]
  },
  {
   "cell_type": "code",
   "execution_count": 13,
   "id": "6689cb25",
   "metadata": {},
   "outputs": [
    {
     "name": "stdout",
     "output_type": "stream",
     "text": [
      "Open 9-5 daily\n"
     ]
    }
   ],
   "source": [
    "#Ans4:\n",
    "from zoo import hours as info\n",
    "info()"
   ]
  },
  {
   "cell_type": "code",
   "execution_count": null,
   "id": "ef0935e1",
   "metadata": {},
   "outputs": [],
   "source": [
    "Q5:\n",
    "Create a plain dictionary with the key-value pairs 'a': 1, 'b': 2, and 'c': 3, and print it out."
   ]
  },
  {
   "cell_type": "code",
   "execution_count": 14,
   "id": "eb60f946",
   "metadata": {},
   "outputs": [
    {
     "name": "stdout",
     "output_type": "stream",
     "text": [
      "{'a': 1, 'b': 2, 'c': 3}\n"
     ]
    }
   ],
   "source": [
    "#Ans5:\n",
    "Dictionary = {'a': 1, 'b': 2, 'c': 3}\n",
    "print(Dictionary)"
   ]
  },
  {
   "cell_type": "code",
   "execution_count": null,
   "id": "d648e0bd",
   "metadata": {},
   "outputs": [],
   "source": [
    "Q6:\n",
    "Make an OrderedDict called fancy from the same pairs listed in 5 and print it. Did it print in the same order as plain?"
   ]
  },
  {
   "cell_type": "code",
   "execution_count": 19,
   "id": "9e8e1859",
   "metadata": {},
   "outputs": [
    {
     "name": "stdout",
     "output_type": "stream",
     "text": [
      "Dictionary:  {'a': 1, 'b': 2, 'c': 3}\n",
      "OrderedDict: OrderedDict([('a', 1), ('b', 2), ('c', 3)])\n"
     ]
    }
   ],
   "source": [
    "#Ans6:\n",
    "from collections import OrderedDict\n",
    "fancy = OrderedDict(Dictionary)\n",
    "print(f\"Dictionary:  {Dictionary}\")\n",
    "print(f\"OrderedDict: {fancy}\")"
   ]
  },
  {
   "cell_type": "code",
   "execution_count": null,
   "id": "7929b6ed",
   "metadata": {},
   "outputs": [],
   "source": [
    "Yes it print in the same order"
   ]
  },
  {
   "cell_type": "code",
   "execution_count": null,
   "id": "0a2bb4cd",
   "metadata": {},
   "outputs": [],
   "source": [
    "Q7:\n",
    "Make a default dictionary called dict_of_lists and pass it the argument list.\n",
    "Make the list dict_of_lists['a'] and append the value 'something for a' to it in one assignment. Print dict_of_lists['a']."
   ]
  },
  {
   "cell_type": "code",
   "execution_count": 20,
   "id": "f9beb2a2",
   "metadata": {},
   "outputs": [
    {
     "name": "stdout",
     "output_type": "stream",
     "text": [
      "['something for a']\n"
     ]
    }
   ],
   "source": [
    "#Ans7:\n",
    "from collections import defaultdict\n",
    "dict_of_lists = defaultdict(list)\n",
    "dict_of_lists['a'].append('something for a')\n",
    "print(dict_of_lists['a'])"
   ]
  }
 ],
 "metadata": {
  "kernelspec": {
   "display_name": "Python 3 (ipykernel)",
   "language": "python",
   "name": "python3"
  },
  "language_info": {
   "codemirror_mode": {
    "name": "ipython",
    "version": 3
   },
   "file_extension": ".py",
   "mimetype": "text/x-python",
   "name": "python",
   "nbconvert_exporter": "python",
   "pygments_lexer": "ipython3",
   "version": "3.9.13"
  }
 },
 "nbformat": 4,
 "nbformat_minor": 5
}
