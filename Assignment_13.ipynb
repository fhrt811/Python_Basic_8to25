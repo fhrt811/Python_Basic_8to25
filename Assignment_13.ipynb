{
 "cells": [
  {
   "cell_type": "code",
   "execution_count": null,
   "id": "bfc3b6e3",
   "metadata": {},
   "outputs": [],
   "source": [
    "Q1:\n",
    "What advantages do Excel spreadsheet have over CSV spreadsheet?"
   ]
  },
  {
   "cell_type": "code",
   "execution_count": null,
   "id": "6bafcc82",
   "metadata": {},
   "outputs": [],
   "source": [
    "Ans1:\n",
    "In Excel, spreadsheets can have values of data types other than strings; cells can have different fonts, sizes, or color\n",
    "settings; cells can have varying widths and heights; adjacent cells can be merged; and you can embed images and charts."
   ]
  },
  {
   "cell_type": "code",
   "execution_count": null,
   "id": "53113585",
   "metadata": {},
   "outputs": [],
   "source": [
    "Q2:\n",
    "What do you pass to csv.reader() and csv.writer() to create Reader and Writer objects?"
   ]
  },
  {
   "cell_type": "code",
   "execution_count": null,
   "id": "be322c2b",
   "metadata": {},
   "outputs": [],
   "source": [
    "Ans2:\n",
    "pass a File object, obtained from a call to open()."
   ]
  },
  {
   "cell_type": "code",
   "execution_count": null,
   "id": "43376236",
   "metadata": {},
   "outputs": [],
   "source": [
    "Q3:\n",
    "What modes do you File objects for reader and Writer objects need to be opened in?"
   ]
  },
  {
   "cell_type": "code",
   "execution_count": null,
   "id": "3455979b",
   "metadata": {},
   "outputs": [],
   "source": [
    "Ans3:\n",
    "File objects need to be opened in read-binary ('rb') for Reader objects and write-binary ('wb') for Writer objects"
   ]
  },
  {
   "cell_type": "code",
   "execution_count": null,
   "id": "261d14aa",
   "metadata": {},
   "outputs": [],
   "source": [
    "Q4:\n",
    "What method takes a list argument and writes it to a CSV file?"
   ]
  },
  {
   "cell_type": "code",
   "execution_count": null,
   "id": "9d6fb415",
   "metadata": {},
   "outputs": [],
   "source": [
    "Ans4:\n",
    "The writerow() method takes a list argument and writes it to a CSV file."
   ]
  },
  {
   "cell_type": "code",
   "execution_count": null,
   "id": "5ccc5074",
   "metadata": {},
   "outputs": [],
   "source": [
    "Q5:\n",
    "What do the keyword arguments delimiter and lineterminator do?"
   ]
  },
  {
   "cell_type": "code",
   "execution_count": null,
   "id": "5d127008",
   "metadata": {},
   "outputs": [],
   "source": [
    "Ans5:\n",
    "The keyword argument delimiter changes the string used to separate cells in a row.\n",
    "The keyword argument lineterminator changes the string used to separate rows."
   ]
  },
  {
   "cell_type": "code",
   "execution_count": null,
   "id": "f20dc5f1",
   "metadata": {},
   "outputs": [],
   "source": [
    "Q6:\n",
    "What function takes a string of JSON data and returns a Python data structure?"
   ]
  },
  {
   "cell_type": "code",
   "execution_count": null,
   "id": "05ab58fc",
   "metadata": {},
   "outputs": [],
   "source": [
    "Ans6:\n",
    "json.loads()"
   ]
  },
  {
   "cell_type": "code",
   "execution_count": null,
   "id": "ca08099f",
   "metadata": {},
   "outputs": [],
   "source": [
    "Q7:\n",
    "What function takes a Python data structure and returns a string of JSON data?"
   ]
  },
  {
   "cell_type": "code",
   "execution_count": null,
   "id": "0cde9fdc",
   "metadata": {},
   "outputs": [],
   "source": [
    "Ans7:\n",
    "json.dumps()"
   ]
  }
 ],
 "metadata": {
  "kernelspec": {
   "display_name": "Python 3 (ipykernel)",
   "language": "python",
   "name": "python3"
  },
  "language_info": {
   "codemirror_mode": {
    "name": "ipython",
    "version": 3
   },
   "file_extension": ".py",
   "mimetype": "text/x-python",
   "name": "python",
   "nbconvert_exporter": "python",
   "pygments_lexer": "ipython3",
   "version": "3.9.13"
  }
 },
 "nbformat": 4,
 "nbformat_minor": 5
}
