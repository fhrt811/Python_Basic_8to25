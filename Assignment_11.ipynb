{
 "cells": [
  {
   "cell_type": "code",
   "execution_count": null,
   "id": "bda8b33b",
   "metadata": {},
   "outputs": [],
   "source": [
    "Q1:\n",
    "Create an assert statement that throws an AssertionError if the variable spam is a negative integer."
   ]
  },
  {
   "cell_type": "code",
   "execution_count": 5,
   "id": "415b16cf",
   "metadata": {},
   "outputs": [
    {
     "name": "stdout",
     "output_type": "stream",
     "text": [
      "Enter the value of spam: -9\n"
     ]
    },
    {
     "ename": "AssertionError",
     "evalue": "spam is a negative integer",
     "output_type": "error",
     "traceback": [
      "\u001b[1;31m---------------------------------------------------------------------------\u001b[0m",
      "\u001b[1;31mAssertionError\u001b[0m                            Traceback (most recent call last)",
      "\u001b[1;32m~\\AppData\\Local\\Temp\\ipykernel_3880\\1905192795.py\u001b[0m in \u001b[0;36m<module>\u001b[1;34m\u001b[0m\n\u001b[0;32m      1\u001b[0m \u001b[1;31m#Ans1:\u001b[0m\u001b[1;33m\u001b[0m\u001b[1;33m\u001b[0m\u001b[0m\n\u001b[0;32m      2\u001b[0m \u001b[0mspam\u001b[0m\u001b[1;33m=\u001b[0m\u001b[0mint\u001b[0m\u001b[1;33m(\u001b[0m\u001b[0minput\u001b[0m\u001b[1;33m(\u001b[0m\u001b[1;34m\"Enter the value of spam: \"\u001b[0m\u001b[1;33m)\u001b[0m\u001b[1;33m)\u001b[0m\u001b[1;33m\u001b[0m\u001b[1;33m\u001b[0m\u001b[0m\n\u001b[1;32m----> 3\u001b[1;33m \u001b[1;32massert\u001b[0m \u001b[0mspam\u001b[0m\u001b[1;33m>=\u001b[0m\u001b[1;36m0\u001b[0m\u001b[1;33m,\u001b[0m \u001b[1;34m'spam is a negative integer'\u001b[0m\u001b[1;33m\u001b[0m\u001b[1;33m\u001b[0m\u001b[0m\n\u001b[0m",
      "\u001b[1;31mAssertionError\u001b[0m: spam is a negative integer"
     ]
    }
   ],
   "source": [
    "#Ans1:\n",
    "spam=int(input(\"Enter the value of spam: \"))\n",
    "assert spam>=0, 'spam is a negative integer'"
   ]
  },
  {
   "cell_type": "code",
   "execution_count": null,
   "id": "c52ee128",
   "metadata": {},
   "outputs": [],
   "source": [
    "Q2:\n",
    "Write an assert statement that triggers an AssertionError if the variables eggs and bacon contain strings \n",
    "that are the same as each other, even if their cases are different (that is, 'hello' and 'hello' are considered the same, \n",
    "and 'goodbye' and 'GOODbye' are also considered the same)."
   ]
  },
  {
   "cell_type": "code",
   "execution_count": null,
   "id": "fc544276",
   "metadata": {},
   "outputs": [],
   "source": [
    "Ans2:\n",
    "For the variables eggs and bacon contain strings that are the same as each other, even if their cases are different,\n",
    "the following code will be executed:\n",
    "egg.lower() != bacon.lower() OR\n",
    "egg.upper() != bacon.upper()"
   ]
  },
  {
   "cell_type": "code",
   "execution_count": null,
   "id": "851d4ce4",
   "metadata": {},
   "outputs": [],
   "source": [
    "Q3:\n",
    "Create an assert statement that throws an AssertionError every time."
   ]
  },
  {
   "cell_type": "code",
   "execution_count": null,
   "id": "72bd9577",
   "metadata": {},
   "outputs": [],
   "source": [
    "Ans3:\n",
    "assert = False 'This will always throw an AssertionError'"
   ]
  },
  {
   "cell_type": "code",
   "execution_count": null,
   "id": "6db50a2a",
   "metadata": {},
   "outputs": [],
   "source": [
    "Q4:\n",
    "What are the two lines that must be present in your software in order to call logging.debug()?"
   ]
  },
  {
   "cell_type": "code",
   "execution_count": null,
   "id": "e7742eb4",
   "metadata": {},
   "outputs": [],
   "source": [
    "Ans4:\n",
    "In order to call logging.debug(), the software must have following two lines at the start of the program:\n",
    "\n",
    "import logging\n",
    "logging.basicConfig(level=logging.DEBUG, format = '%(asctime)s - %(levelname)s - %(message)s')"
   ]
  },
  {
   "cell_type": "code",
   "execution_count": null,
   "id": "3d414de4",
   "metadata": {},
   "outputs": [],
   "source": [
    "Q5:\n",
    "What are the two lines that your program must have in order to have logging.debug() send a logging message to a file named \n",
    "programLog.txt?"
   ]
  },
  {
   "cell_type": "code",
   "execution_count": null,
   "id": "842c7a1b",
   "metadata": {},
   "outputs": [],
   "source": [
    "Ans5:\n",
    "In order to have logging.debug() send a logging message to a file named programLog.txt the following two lines must have at\n",
    "the start of the program:\n",
    "    \n",
    "import logging\n",
    "logging.basicConfig(filename='programLog.txt', level=logging.DEBUG, format = '%(asctime)s - %(levelname)s - %(message)s')"
   ]
  },
  {
   "cell_type": "code",
   "execution_count": null,
   "id": "f4680df0",
   "metadata": {},
   "outputs": [],
   "source": [
    "Q6:\n",
    "What are the five levels of logging?"
   ]
  },
  {
   "cell_type": "code",
   "execution_count": null,
   "id": "1e366d7c",
   "metadata": {},
   "outputs": [],
   "source": [
    "Ans6:\n",
    "The five levels of logging are:\n",
    "\n",
    "Debug\n",
    "Info\n",
    "Warning\n",
    "Error\n",
    "Critical"
   ]
  },
  {
   "cell_type": "code",
   "execution_count": null,
   "id": "507c10e8",
   "metadata": {},
   "outputs": [],
   "source": [
    "Q7:\n",
    "What line of code would you add to your software to disable all logging messages?"
   ]
  },
  {
   "cell_type": "code",
   "execution_count": null,
   "id": "8cdc6f79",
   "metadata": {},
   "outputs": [],
   "source": [
    "Ans7:\n",
    "To disable all logging messages, we need to add following code to the software:\n",
    "    \n",
    "logging.disable(logging.CRITICAL)"
   ]
  },
  {
   "cell_type": "code",
   "execution_count": null,
   "id": "5739570f",
   "metadata": {},
   "outputs": [],
   "source": [
    "Q8:\n",
    "Why is using logging messages better than using print() to display the same message?"
   ]
  },
  {
   "cell_type": "code",
   "execution_count": null,
   "id": "9eb20807",
   "metadata": {},
   "outputs": [],
   "source": [
    "Ans8:\n",
    "There are various reasons for using looging messages instead of print() to display the same message:\n",
    "Disable logging messages without removing the logging function calls.\n",
    "Selectively disable lower-level logging messages.\n",
    "Create logging messages.\n",
    "Logging messages also provides a timestamp."
   ]
  },
  {
   "cell_type": "code",
   "execution_count": null,
   "id": "900fd52c",
   "metadata": {},
   "outputs": [],
   "source": [
    "Q9:\n",
    "What are the difference between the Step Over, Step In, and Step Out buttons in the debugger?"
   ]
  },
  {
   "cell_type": "code",
   "execution_count": null,
   "id": "a8c89544",
   "metadata": {},
   "outputs": [],
   "source": [
    "Ans9:\n",
    "The Step In button will move the debugger into a function call.\n",
    "The Step Over button will quickly execute the function call without stepping into it.\n",
    "The Step Out button will quickly execute the rest of the code until it steps out of the function it currently is in."
   ]
  },
  {
   "cell_type": "code",
   "execution_count": null,
   "id": "8bdbb6e0",
   "metadata": {},
   "outputs": [],
   "source": [
    "Q10:\n",
    "What is the concept of breakpoint?"
   ]
  },
  {
   "cell_type": "code",
   "execution_count": null,
   "id": "dc0f3aff",
   "metadata": {},
   "outputs": [],
   "source": [
    "Ans10:\n",
    "A  breakpoint is a setting on a line of code that causes the debugger to pause when the program execution reaches the line."
   ]
  }
 ],
 "metadata": {
  "kernelspec": {
   "display_name": "Python 3 (ipykernel)",
   "language": "python",
   "name": "python3"
  },
  "language_info": {
   "codemirror_mode": {
    "name": "ipython",
    "version": 3
   },
   "file_extension": ".py",
   "mimetype": "text/x-python",
   "name": "python",
   "nbconvert_exporter": "python",
   "pygments_lexer": "ipython3",
   "version": "3.9.13"
  }
 },
 "nbformat": 4,
 "nbformat_minor": 5
}
