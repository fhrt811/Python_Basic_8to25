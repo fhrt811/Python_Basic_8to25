{
 "cells": [
  {
   "cell_type": "code",
   "execution_count": null,
   "id": "dc73e242",
   "metadata": {},
   "outputs": [],
   "source": [
    "Q1:\n",
    "In what modes should the PdfFileReader() and PdfFileWriter() File objects will be opened?"
   ]
  },
  {
   "cell_type": "code",
   "execution_count": null,
   "id": "bfba4a50",
   "metadata": {},
   "outputs": [],
   "source": [
    "Ans1:\n",
    "In banary mode:\n",
    "Read-binary ('rb') mode for PdfFileReader() and write-binary ('wb') mode for PdfFileWriter()."
   ]
  },
  {
   "cell_type": "code",
   "execution_count": null,
   "id": "b71bb431",
   "metadata": {},
   "outputs": [],
   "source": [
    "Q2:\n",
    "From a PdfFileReader object, how do you get a Page object for page 5?"
   ]
  },
  {
   "cell_type": "code",
   "execution_count": 10,
   "id": "09f7df04",
   "metadata": {},
   "outputs": [
    {
     "name": "stdout",
     "output_type": "stream",
     "text": [
      "Requirement already satisfied: PyPDF2 in c:\\users\\fhrt8\\anaconda3\\lib\\site-packages (3.0.1)\n",
      "Requirement already satisfied: typing_extensions>=3.10.0.0 in c:\\users\\fhrt8\\anaconda3\\lib\\site-packages (from PyPDF2) (4.3.0)\n",
      "Note: you may need to restart the kernel to use updated packages.\n"
     ]
    }
   ],
   "source": [
    "pip install PyPDF2"
   ]
  },
  {
   "cell_type": "code",
   "execution_count": 19,
   "id": "5d8d8adb",
   "metadata": {},
   "outputs": [
    {
     "data": {
      "text/plain": [
       "'After tha t, it’ll start cr eating a ne w en vironmen t.\\n'"
      ]
     },
     "execution_count": 19,
     "metadata": {},
     "output_type": "execute_result"
    }
   ],
   "source": [
    "#Ans2:\n",
    "#Calling getPage(4) will return a Page object for About the Book, because page(0) is the first page.\n",
    "import PyPDF2 as ppdf\n",
    "pdffile = open(\"deployment steps.pdf\",'rb')\n",
    "pdfReader = ppdf.PdfReader(pdffile)\n",
    "pageRead = reader.pages[4]\n",
    "pageRead.extract_text()"
   ]
  },
  {
   "cell_type": "code",
   "execution_count": null,
   "id": "384621ff",
   "metadata": {},
   "outputs": [],
   "source": [
    "Q3:\n",
    "What PdfFileReader variable stores the number of pages in the PDF document?"
   ]
  },
  {
   "cell_type": "code",
   "execution_count": 27,
   "id": "79b88bbd",
   "metadata": {},
   "outputs": [
    {
     "data": {
      "text/plain": [
       "17"
      ]
     },
     "execution_count": 27,
     "metadata": {},
     "output_type": "execute_result"
    }
   ],
   "source": [
    "#Ans3:\n",
    "#The len(reader.pages) stores the number of pages in the PdfFileReader object.\n",
    "\n",
    "pdffile = open(\"deployment steps.pdf\",'rb')\n",
    "pdfRead = ppdf.PdfReader(pdffile)\n",
    "len(reader.pages)"
   ]
  },
  {
   "cell_type": "code",
   "execution_count": null,
   "id": "c6a08f28",
   "metadata": {},
   "outputs": [],
   "source": [
    "Q4:\n",
    "If a PdfFileReader object's PDF is encrypted with the password swordfish,\n",
    "what must you do before you can obtain Page objects from it?"
   ]
  },
  {
   "cell_type": "code",
   "execution_count": null,
   "id": "bc4006ee",
   "metadata": {},
   "outputs": [],
   "source": [
    "Ans4:\n",
    "If a PdfFileReader object's PDF is encrypted with the password 'swordfish', \n",
    "before obtaining Page objects from it, call decrypt('swordfish')"
   ]
  },
  {
   "cell_type": "code",
   "execution_count": null,
   "id": "8c0b6a7c",
   "metadata": {},
   "outputs": [],
   "source": [
    "Q5:\n",
    "What methods do you use to rotate a page?"
   ]
  },
  {
   "cell_type": "code",
   "execution_count": 9,
   "id": "b7e22e39",
   "metadata": {},
   "outputs": [],
   "source": [
    "#Ans5: Using 'rotate()' method.\n",
    "from PyPDF2 import PdfReader, PdfWriter\n",
    "\n",
    "\n",
    "reader = PdfReader(\"deployment steps.pdf\")\n",
    "\n",
    "with open(\"out.pdf\", \"wb\") as f:\n",
    "    writer = PdfWriter(f)\n",
    "    page = reader.pages[1]\n",
    "    page.rotate(90)\n",
    "    writer.add_page(page)"
   ]
  },
  {
   "cell_type": "code",
   "execution_count": null,
   "id": "3b032162",
   "metadata": {},
   "outputs": [],
   "source": [
    "Q6:\n",
    "What is the difference between a Run object and a Paragraph object?"
   ]
  },
  {
   "cell_type": "code",
   "execution_count": null,
   "id": "85fda07f",
   "metadata": {},
   "outputs": [],
   "source": [
    "Ans6:\n",
    "When using a linked style for a Run object, you will need to add 'Char' to the end of its name.\n",
    "For example, to set the Quote linked style for a Paragraph object, you would use paragraphObj.style = 'Quote',\n",
    "but for a Run object, you would use runObj.style = 'QuoteChar'."
   ]
  },
  {
   "cell_type": "code",
   "execution_count": null,
   "id": "caffad1e",
   "metadata": {},
   "outputs": [],
   "source": [
    "Q7:\n",
    "How do you obtain a list of Paragraph objects for a Document object that's stored in a variable named doc?"
   ]
  },
  {
   "cell_type": "code",
   "execution_count": 29,
   "id": "24b5dd28",
   "metadata": {},
   "outputs": [
    {
     "name": "stdout",
     "output_type": "stream",
     "text": [
      "Collecting python-docx\n",
      "  Downloading python-docx-0.8.11.tar.gz (5.6 MB)\n",
      "     ---------------------------------------- 5.6/5.6 MB 1.8 MB/s eta 0:00:00\n",
      "  Preparing metadata (setup.py): started\n",
      "  Preparing metadata (setup.py): finished with status 'done'\n",
      "Requirement already satisfied: lxml>=2.3.2 in c:\\users\\fhrt8\\anaconda3\\lib\\site-packages (from python-docx) (4.9.1)\n",
      "Building wheels for collected packages: python-docx\n",
      "  Building wheel for python-docx (setup.py): started\n",
      "  Building wheel for python-docx (setup.py): finished with status 'done'\n",
      "  Created wheel for python-docx: filename=python_docx-0.8.11-py3-none-any.whl size=184489 sha256=31d11b331fe1ecac8e13c52ea5b671465cf1cef3460e0ba2af87c340d86e0356\n",
      "  Stored in directory: c:\\users\\fhrt8\\appdata\\local\\pip\\cache\\wheels\\83\\8b\\7c\\09ae60c42c7ba4ed2dddaf2b8b9186cb105255856d6ed3dba5\n",
      "Successfully built python-docx\n",
      "Installing collected packages: python-docx\n",
      "Successfully installed python-docx-0.8.11\n",
      "Note: you may need to restart the kernel to use updated packages.\n"
     ]
    }
   ],
   "source": [
    "pip install python-docx"
   ]
  },
  {
   "cell_type": "code",
   "execution_count": null,
   "id": "dcb80ff5",
   "metadata": {},
   "outputs": [],
   "source": [
    "#Ans7:\n",
    "#To obtain a list of Paragraph objects for a Document object that's stored in a variable named doc, use doc.paragraphs\n",
    "import docx\n",
    "doc = docx.Document('CVFaisal.docx')\n",
    "doc.paragraphs"
   ]
  },
  {
   "cell_type": "code",
   "execution_count": null,
   "id": "f93e32dc",
   "metadata": {},
   "outputs": [],
   "source": [
    "Q8:\n",
    "What type of object has bold, underline, italic, strike, and outline variables?"
   ]
  },
  {
   "cell_type": "code",
   "execution_count": null,
   "id": "e2f099e7",
   "metadata": {},
   "outputs": [],
   "source": [
    "Ans8:\n",
    "Run object has bold, underline,italic,strike and outline variables"
   ]
  },
  {
   "cell_type": "code",
   "execution_count": null,
   "id": "559d1c13",
   "metadata": {},
   "outputs": [],
   "source": [
    "Q9:\n",
    "What is the difference between False, True, and None for the bold variable?"
   ]
  },
  {
   "cell_type": "code",
   "execution_count": null,
   "id": "812a865e",
   "metadata": {},
   "outputs": [],
   "source": [
    "Ans9:\n",
    "Runs can be further styled using text attributes. Each attribute can be set to one of three values:\n",
    "True (the attribute is always enabled, no matter what other styles are applied to the run),\n",
    "False (the attribute is always disabled),\n",
    "None (defaults to whatever the run’s style is set to)\n",
    "\n",
    "True always makes the Run object bolded and False makes it always not bolded, no matter what the style’s bold setting is.\n",
    "None will make the Run object just use the style’s bold setting."
   ]
  },
  {
   "cell_type": "code",
   "execution_count": null,
   "id": "14c1a63c",
   "metadata": {},
   "outputs": [],
   "source": [
    "Q10:\n",
    "How do you create a Document object for a new Word document?"
   ]
  },
  {
   "cell_type": "code",
   "execution_count": null,
   "id": "202ec3e4",
   "metadata": {},
   "outputs": [],
   "source": [
    "Ans10:\n",
    "To create a Document object for a new Word document Call the docx.Document() function."
   ]
  },
  {
   "cell_type": "code",
   "execution_count": null,
   "id": "e06ab8cb",
   "metadata": {},
   "outputs": [],
   "source": [
    "Q11:\n",
    "How do you add a paragraph with the text 'Hello, there!'' to a Document object stored in a variable named doc?"
   ]
  },
  {
   "cell_type": "code",
   "execution_count": null,
   "id": "fc9aa266",
   "metadata": {},
   "outputs": [],
   "source": [
    "#Ans11:\n",
    "doc = docx.Document()\n",
    "\n",
    "doc.add_paragraph('Hello there!')\n",
    "doc.save('NewDoc.docx')"
   ]
  },
  {
   "cell_type": "code",
   "execution_count": null,
   "id": "7b4006d0",
   "metadata": {},
   "outputs": [],
   "source": [
    "Q12:\n",
    "What integers represent the levels of headings available in Word documents?"
   ]
  },
  {
   "cell_type": "code",
   "execution_count": null,
   "id": "2e638ca0",
   "metadata": {},
   "outputs": [],
   "source": [
    "Ans12:\n",
    "integer from 0 to 4 represent the levels of headings available in Word documents.\n",
    "The arguments to add_heading() are a string of the heading text and an integer from 0 to 4.\n",
    "The integer 0 makes the heading the Title style, which is used for the top of the document.\n",
    "Integers 1 to 4 are for various heading levels, with 1 being the main heading and 4 the lowest subheading."
   ]
  }
 ],
 "metadata": {
  "kernelspec": {
   "display_name": "Python 3 (ipykernel)",
   "language": "python",
   "name": "python3"
  },
  "language_info": {
   "codemirror_mode": {
    "name": "ipython",
    "version": 3
   },
   "file_extension": ".py",
   "mimetype": "text/x-python",
   "name": "python",
   "nbconvert_exporter": "python",
   "pygments_lexer": "ipython3",
   "version": "3.9.13"
  }
 },
 "nbformat": 4,
 "nbformat_minor": 5
}
