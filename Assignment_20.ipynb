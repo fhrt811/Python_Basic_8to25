{
 "cells": [
  {
   "cell_type": "code",
   "execution_count": null,
   "id": "1a7c301c",
   "metadata": {},
   "outputs": [],
   "source": [
    "Q1:\n",
    "Set the variable test1 to the string 'This is a test of the emergency text system,' and save test1 to a file named test.txt."
   ]
  },
  {
   "cell_type": "code",
   "execution_count": 1,
   "id": "5569ac78",
   "metadata": {},
   "outputs": [
    {
     "name": "stdout",
     "output_type": "stream",
     "text": [
      "This is a test of the emergency text system\n"
     ]
    }
   ],
   "source": [
    "#Ans1:\n",
    "test1='This is a test of the emergency text system'\n",
    "with open('test.txt', 'w') as f:\n",
    "    f.write(test1)\n",
    "    f.close()\n",
    "    \n",
    "print(test1)"
   ]
  },
  {
   "cell_type": "code",
   "execution_count": 10,
   "id": "5f2b6033",
   "metadata": {},
   "outputs": [
    {
     "name": "stdout",
     "output_type": "stream",
     "text": [
      "This is a test of the emergency text system\n"
     ]
    }
   ],
   "source": [
    "#file content\n",
    "f=open('test.txt')\n",
    "R=f.read()\n",
    "f.close()\n",
    "\n",
    "print(R)"
   ]
  },
  {
   "cell_type": "code",
   "execution_count": null,
   "id": "7b244b84",
   "metadata": {},
   "outputs": [],
   "source": [
    "Q2:\n",
    "Read the contents of the file test.txt into the variable test2. Is there a difference between test 1 and test 2?"
   ]
  },
  {
   "cell_type": "code",
   "execution_count": 40,
   "id": "e72690ca",
   "metadata": {},
   "outputs": [
    {
     "name": "stdout",
     "output_type": "stream",
     "text": [
      "This is a test of the emergency text system\n",
      "True\n"
     ]
    }
   ],
   "source": [
    "#Ans2:\n",
    "with open('test.txt') as f:\n",
    "    test2=f.read()\n",
    "    f.close()\n",
    "print(test2)\n",
    "if test1==test2:\n",
    "    print('True')\n",
    "else:\n",
    "    print(\"False\")"
   ]
  },
  {
   "cell_type": "code",
   "execution_count": null,
   "id": "e790e24e",
   "metadata": {},
   "outputs": [],
   "source": [
    "Q3:\n",
    "Create a CSV file called books.csv by using these lines:\n",
    "title,author,year\n",
    "The Weirdstone of Brisingamen,Alan Garner,1960\n",
    "Perdido Street Station,China Miéville,2000\n",
    "Thud!,Terry Pratchett,2005\n",
    "The Spellman Files,Lisa Lutz,2007\n",
    "Small Gods,Terry Pratchett,1992"
   ]
  },
  {
   "cell_type": "code",
   "execution_count": 22,
   "id": "4bdeb8b0",
   "metadata": {},
   "outputs": [],
   "source": [
    "#Ans3:\n",
    "data= \"\"\"title,author,year\n",
    "The Weirdstone of Brisingamen,Alan Garner,1960\n",
    "Perdido Street Station,China Miéville,2000\n",
    "Thud!,Terry Pratchett,2005\n",
    "The Spellman Files,Lisa Lutz,2007\n",
    "Small Gods,Terry Pratchett,1992\"\"\"\n",
    "\n",
    "with open('books.csv', 'w', encoding='utf-8') as f:\n",
    "    f.write(data)\n",
    "    f.close()"
   ]
  },
  {
   "cell_type": "code",
   "execution_count": null,
   "id": "c1194f24",
   "metadata": {},
   "outputs": [],
   "source": [
    "Q4:\n",
    "Use the sqlite3 module to create a SQLite database called books.db, and a table called books with these fields: \n",
    "title (text), author (text), and year (integer)."
   ]
  },
  {
   "cell_type": "code",
   "execution_count": 20,
   "id": "98360528",
   "metadata": {},
   "outputs": [],
   "source": [
    "#Ans4:\n",
    "import sqlite3\n",
    "db = sqlite3.connect('books.db')\n",
    "cursor=db.cursor()\n",
    "cursor.execute(\"CREATE TABLE books (title text, author text, year int)\")\n",
    "db.commit()\n",
    "db.close()"
   ]
  },
  {
   "cell_type": "code",
   "execution_count": null,
   "id": "994e39cb",
   "metadata": {},
   "outputs": [],
   "source": [
    "Q5:\n",
    "Read books.csv and insert its data into the books table."
   ]
  },
  {
   "cell_type": "code",
   "execution_count": 39,
   "id": "5b52023b",
   "metadata": {},
   "outputs": [],
   "source": [
    "#Ans5:\n",
    "import sqlite3\n",
    "import csv\n",
    "db=sqlite3.connect('books.db')\n",
    "cursor=db.cursor()\n",
    "with open('books.csv', 'r') as file:\n",
    "    reader = csv.DictReader(file)\n",
    "    for row in reader:\n",
    "        cursor.execute(\"INSERT INTO books VALUES (?,?,?)\",(row['title'],row['author'],row['year']))\n",
    "        \n",
    "db.commit()\n",
    "db.close()"
   ]
  },
  {
   "cell_type": "code",
   "execution_count": null,
   "id": "cf94d46e",
   "metadata": {},
   "outputs": [],
   "source": [
    "Q6:\n",
    "Select and print the title column from the books table in alphabetical order."
   ]
  },
  {
   "cell_type": "code",
   "execution_count": 33,
   "id": "e7c78818",
   "metadata": {},
   "outputs": [
    {
     "name": "stdout",
     "output_type": "stream",
     "text": [
      "Perdido Street Station\n",
      "Small Gods\n",
      "The Spellman Files\n",
      "The Weirdstone of Brisingamen\n",
      "Thud!\n"
     ]
    }
   ],
   "source": [
    "#Ans6:\n",
    "import sqlite3\n",
    "db=sqlite3.connect(\"books.db\")\n",
    "cursor=db.cursor()\n",
    "g=cursor.execute(\"SELECT * FROM books ORDER BY title ASC\")\n",
    "for t in g:\n",
    "    print(t[0])\n",
    "    \n",
    "db.commit()\n",
    "db.close()"
   ]
  },
  {
   "cell_type": "code",
   "execution_count": null,
   "id": "cdbcc25e",
   "metadata": {},
   "outputs": [],
   "source": [
    "Q7:\n",
    "From the books table, select and print all columns in the order of publication."
   ]
  },
  {
   "cell_type": "code",
   "execution_count": 34,
   "id": "0ce84c4e",
   "metadata": {},
   "outputs": [
    {
     "name": "stdout",
     "output_type": "stream",
     "text": [
      "('The Weirdstone of Brisingamen', 'Alan Garner', 1960)\n",
      "('Small Gods', 'Terry Pratchett', 1992)\n",
      "('Perdido Street Station', 'China MiÃ©ville', 2000)\n",
      "('Thud!', 'Terry Pratchett', 2005)\n",
      "('The Spellman Files', 'Lisa Lutz', 2007)\n"
     ]
    }
   ],
   "source": [
    "#Ans7:\n",
    "import sqlite3\n",
    "db=sqlite3.connect(\"books.db\")\n",
    "cursor=db.cursor()\n",
    "g=cursor.execute(\"SELECT * FROM books ORDER BY year ASC\")\n",
    "for t in g:\n",
    "    print(t)\n",
    "    \n",
    "db.commit()\n",
    "db.close()"
   ]
  },
  {
   "cell_type": "code",
   "execution_count": null,
   "id": "ddb94c03",
   "metadata": {},
   "outputs": [],
   "source": [
    "Q8:\n",
    "Use the sqlalchemy module to connect to the sqlite3 database books.db that you just made in exercise 6."
   ]
  },
  {
   "cell_type": "code",
   "execution_count": 35,
   "id": "4852ec12",
   "metadata": {},
   "outputs": [
    {
     "data": {
      "text/plain": [
       "Engine(sqlite:///books.db)"
      ]
     },
     "execution_count": 35,
     "metadata": {},
     "output_type": "execute_result"
    }
   ],
   "source": [
    "#Ans8:\n",
    "import sqlalchemy\n",
    "db=sqlalchemy.create_engine(\"sqlite:///books.db\")\n",
    "db"
   ]
  },
  {
   "cell_type": "code",
   "execution_count": null,
   "id": "9c634377",
   "metadata": {},
   "outputs": [],
   "source": [
    "Q9:\n",
    "Install the Redis server and the Python redis library (pip install redis) on your computer.\n",
    "Create a Redis hash called test with the fields count (1) and name ('Fester Bestertester'). Print all the fields for test."
   ]
  },
  {
   "cell_type": "code",
   "execution_count": 2,
   "id": "d7c32e22",
   "metadata": {},
   "outputs": [
    {
     "name": "stdout",
     "output_type": "stream",
     "text": [
      "Requirement already satisfied: redis in c:\\users\\fhrt8\\appdata\\local\\programs\\python\\python311\\lib\\site-packages (4.5.5)\n",
      "Requirement already satisfied: async-timeout>=4.0.2 in c:\\users\\fhrt8\\appdata\\local\\programs\\python\\python311\\lib\\site-packages (from redis) (4.0.2)\n"
     ]
    }
   ],
   "source": [
    "#Ans9:\n",
    "!pip install redis"
   ]
  },
  {
   "cell_type": "code",
   "execution_count": null,
   "id": "025dd837",
   "metadata": {},
   "outputs": [],
   "source": [
    "import redis\n",
    "connection = redis.Redis()\n",
    "connection.hset('test',{\n",
    "    'count':1,\n",
    "    'name':'Fester Bestertester'\n",
    "})\n",
    "connection.hgetall('test')"
   ]
  },
  {
   "cell_type": "code",
   "execution_count": null,
   "id": "00e184be",
   "metadata": {},
   "outputs": [],
   "source": [
    "Q10:\n",
    "Increment the count field of test and print it."
   ]
  },
  {
   "cell_type": "raw",
   "id": "e731c4c8",
   "metadata": {},
   "source": [
    "#Ans10:\n",
    "connection.hincrby('test', 'count', 1)\n",
    "connection.hget('test', 'count')"
   ]
  }
 ],
 "metadata": {
  "kernelspec": {
   "display_name": "Python 3 (ipykernel)",
   "language": "python",
   "name": "python3"
  },
  "language_info": {
   "codemirror_mode": {
    "name": "ipython",
    "version": 3
   },
   "file_extension": ".py",
   "mimetype": "text/x-python",
   "name": "python",
   "nbconvert_exporter": "python",
   "pygments_lexer": "ipython3",
   "version": "3.9.13"
  }
 },
 "nbformat": 4,
 "nbformat_minor": 5
}
