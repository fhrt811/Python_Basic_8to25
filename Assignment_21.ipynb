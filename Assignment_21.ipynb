{
 "cells": [
  {
   "cell_type": "code",
   "execution_count": null,
   "id": "b40606dc",
   "metadata": {},
   "outputs": [],
   "source": [
    "Q1:\n",
    "Add the current date to the text file today.txt as a string."
   ]
  },
  {
   "cell_type": "code",
   "execution_count": 37,
   "id": "29024938",
   "metadata": {},
   "outputs": [
    {
     "name": "stdout",
     "output_type": "stream",
     "text": [
      "15-05-2023\n",
      "<class 'str'>\n"
     ]
    }
   ],
   "source": [
    "#Ans1:\n",
    "import datetime\n",
    "\n",
    "with open(\"today.txt\", 'w') as file:\n",
    "    file.write(datetime.datetime.now().strftime(\"%d-%m-%Y\"))\n",
    "    file.close()\n",
    "    \n",
    "file=open(\"today.txt\")\n",
    "saved=file.read()\n",
    "file.close()\n",
    "print(saved)\n",
    "print(type(saved))"
   ]
  },
  {
   "cell_type": "code",
   "execution_count": null,
   "id": "ccb01c6d",
   "metadata": {},
   "outputs": [],
   "source": [
    "Q2:\n",
    "Read the text file today.txt into the string today_string"
   ]
  },
  {
   "cell_type": "code",
   "execution_count": 38,
   "id": "6426f99d",
   "metadata": {},
   "outputs": [
    {
     "name": "stdout",
     "output_type": "stream",
     "text": [
      "15-05-2023\n"
     ]
    }
   ],
   "source": [
    "#Ans2:\n",
    "file=open(\"today.txt\")\n",
    "today_string=file.read()\n",
    "print(today_string[0:10])"
   ]
  },
  {
   "cell_type": "code",
   "execution_count": null,
   "id": "6eb2a9a0",
   "metadata": {},
   "outputs": [],
   "source": [
    "Q3:\n",
    "Parse the date from today_string."
   ]
  },
  {
   "cell_type": "code",
   "execution_count": 39,
   "id": "9b5ae354",
   "metadata": {},
   "outputs": [
    {
     "name": "stdout",
     "output_type": "stream",
     "text": [
      "2023-05-15 00:00:00\n"
     ]
    }
   ],
   "source": [
    "#Ans3:\n",
    "from datetime import datetime\n",
    "parsed_data = datetime.strptime(today_string, '%d-%m-%Y')\n",
    "print(parsed_data)"
   ]
  },
  {
   "cell_type": "code",
   "execution_count": null,
   "id": "3ceb990e",
   "metadata": {},
   "outputs": [],
   "source": [
    "Q4:\n",
    "List the files in your current directory"
   ]
  },
  {
   "cell_type": "code",
   "execution_count": null,
   "id": "bcf706bc",
   "metadata": {},
   "outputs": [],
   "source": [
    "#Ans4:\n",
    "import os\n",
    "for folders, subfolders, files in os.walk(os.getcwd()):\n",
    "    for file in files:\n",
    "        print(file)\n",
    "        \n",
    "# I have removed the result because the files from my computer will be visible to everyone."
   ]
  },
  {
   "cell_type": "code",
   "execution_count": null,
   "id": "e407c27c",
   "metadata": {},
   "outputs": [],
   "source": [
    "Q5:\n",
    "Create a list of all of the files in your parent directory (minimum five files should be available)."
   ]
  },
  {
   "cell_type": "code",
   "execution_count": 2,
   "id": "c008f3cf",
   "metadata": {},
   "outputs": [
    {
     "data": {
      "text/plain": [
       "['.cache',\n",
       " '.conda',\n",
       " '.continuum',\n",
       " '.cufflinks',\n",
       " '.gitconfig',\n",
       " '.ipynb_checkpoints',\n",
       " '.ipython',\n",
       " '.jupyter',\n",
       " '.lesshst',\n",
       " '.matplotlib',\n",
       " '.ms-ad',\n",
       " '.vscode',\n",
       " '.vscode-cli',\n",
       " '.wdm',\n",
       " '3D Objects',\n",
       " 'abc.log',\n",
       " 'anaconda3',\n",
       " 'API1.py',\n",
       " 'AppData',\n",
       " 'Application Data',\n",
       " 'Asiignment_4.ipynb',\n",
       " 'Assignment_10.ipynb',\n",
       " 'Assignment_11.ipynb',\n",
       " 'Assignment_12.ipynb',\n",
       " 'Assignment_13.ipynb',\n",
       " 'Assignment_14.ipynb',\n",
       " 'Assignment_15.ipynb',\n",
       " 'Assignment_16.ipynb',\n",
       " 'Assignment_17.ipynb',\n",
       " 'Assignment_18.ipynb',\n",
       " 'Assignment_19.ipynb',\n",
       " 'Assignment_20.ipynb',\n",
       " 'Assignment_21.ipynb',\n",
       " 'Assignment_3.ipynb',\n",
       " 'Assignment_5.ipynb',\n",
       " 'Assignment_6.ipynb',\n",
       " 'Assignment_7.ipynb',\n",
       " 'Assignment_8.ipynb',\n",
       " 'Assignment_9.ipynb',\n",
       " 'books.csv',\n",
       " 'books.db',\n",
       " 'Contacts',\n",
       " 'Cookies',\n",
       " 'CVFaisal.docx',\n",
       " 'deployment steps.pdf',\n",
       " 'Desktop',\n",
       " 'Documents',\n",
       " 'Downloads',\n",
       " 'EDA.ipynb',\n",
       " 'Favorites',\n",
       " 'flight_price.xlsx',\n",
       " 'glass.csv',\n",
       " 'Graph.ipynb',\n",
       " 'Graphs.ipynb',\n",
       " 'imagescrapper_sc',\n",
       " 'iris.csv',\n",
       " 'Krish Feature Engineering.ipynb',\n",
       " 'Learning Python.ipynb',\n",
       " 'Links',\n",
       " 'Local Settings',\n",
       " 'Mongo_file.txt',\n",
       " 'Music',\n",
       " 'My Documents',\n",
       " 'Namecheck.log',\n",
       " 'NetHood',\n",
       " 'NTUSER.DAT',\n",
       " 'ntuser.dat.LOG1',\n",
       " 'ntuser.dat.LOG2',\n",
       " 'NTUSER.DAT{53b39e88-18c4-11ea-a811-000d3aa4692b}.TM.blf',\n",
       " 'NTUSER.DAT{53b39e88-18c4-11ea-a811-000d3aa4692b}.TMContainer00000000000000000001.regtrans-ms',\n",
       " 'NTUSER.DAT{53b39e88-18c4-11ea-a811-000d3aa4692b}.TMContainer00000000000000000002.regtrans-ms',\n",
       " 'ntuser.ini',\n",
       " 'Numpy.ipynb',\n",
       " 'OneDrive',\n",
       " 'OOPS.ipynb',\n",
       " 'output.html',\n",
       " 'Pandas.ipynb',\n",
       " 'Pictures',\n",
       " 'Postman',\n",
       " 'PrintHood',\n",
       " 'Python Class and Objects.ipynb',\n",
       " 'Python Stats2.ipynb',\n",
       " 'Recent',\n",
       " 'Regression by Krish.ipynb',\n",
       " 'Revision of some python topics.ipynb',\n",
       " 'Saved Games',\n",
       " 'scikit_learn_data',\n",
       " 'Scraper with AWS beanstalk deployment.ipynb',\n",
       " 'scraperNew.py',\n",
       " 'seaborn-data',\n",
       " 'Searches',\n",
       " 'SendTo',\n",
       " 'solution.log',\n",
       " \"Solutions of Questions (Imran's class).ipynb\",\n",
       " 'Start Menu',\n",
       " 'Templates',\n",
       " 'test.txt',\n",
       " 'tips.csv',\n",
       " 'Titanic.csv',\n",
       " 'today.txt',\n",
       " 'Tracing',\n",
       " 'Untitled.ipynb',\n",
       " 'Videos',\n",
       " 'zoo.ipynb',\n",
       " 'zoo.py',\n",
       " '__pycache__']"
      ]
     },
     "execution_count": 2,
     "metadata": {},
     "output_type": "execute_result"
    }
   ],
   "source": [
    "#Ans5:\n",
    "import os\n",
    "os.listdir()"
   ]
  },
  {
   "cell_type": "code",
   "execution_count": null,
   "id": "b0aa713e",
   "metadata": {},
   "outputs": [],
   "source": [
    "Q6:\n",
    "Use multiprocessing to create three separate processes.\n",
    "Make each one wait a random number of seconds between one and five, print the current time, and then exit."
   ]
  },
  {
   "cell_type": "code",
   "execution_count": 33,
   "id": "eded6140",
   "metadata": {},
   "outputs": [],
   "source": [
    "#Ans6:\n",
    "import multiprocessing\n",
    "import time \n",
    "import random\n",
    "import datetime\n",
    "\n",
    "def procOne():\n",
    "    print(f'Proc_one_Starttime -> {datetime.datetime.now()}')\n",
    "    time.sleep(random.randint(1,5))\n",
    "    print(f'Proc_one_Endtime -> {datetime.datetime.now()}')\n",
    "    \n",
    "def procTwo():\n",
    "    print(f'Proc_two_Starttime -> {datetime.datetime.now()}')\n",
    "    time.sleep(random.randint(1,5))\n",
    "    print(f'Proc_two_Endtime -> {datetime.datetime.now()}')\n",
    "\n",
    "def procThree():\n",
    "    print(f'Proc_two_Starttime -> {datetime.datetime.now()}')\n",
    "    time.sleep(random.randint(1,5))\n",
    "    print(f'Proc_two_Endtime -> {datetime.datetime.now()}')\n",
    "    \n",
    "if __name__ == \"__main__\":    \n",
    "    p1 = multiprocessing.Process(target=procOne)\n",
    "    p2 = multiprocessing.Process(target=procTwo)\n",
    "    p3 = multiprocessing.Process(target=procThree)\n",
    "\n",
    "    p1.start()\n",
    "    p2.start()\n",
    "    p3.start()\n",
    "\n",
    "    p1.join()\n",
    "    p2.join()\n",
    "    p3.join()"
   ]
  },
  {
   "cell_type": "code",
   "execution_count": null,
   "id": "f158843a",
   "metadata": {},
   "outputs": [],
   "source": [
    "Q7:\n",
    "Create a date object of your day of birth."
   ]
  },
  {
   "cell_type": "code",
   "execution_count": 22,
   "id": "2e2433b6",
   "metadata": {},
   "outputs": [
    {
     "name": "stdout",
     "output_type": "stream",
     "text": [
      "1988-05-11 00:00:00 <class 'datetime.datetime'>\n"
     ]
    }
   ],
   "source": [
    "#Ans7:\n",
    "from datetime import datetime\n",
    "DOB=datetime.strptime(\"11-05-1988\", \"%d-%m-%Y\")\n",
    "print(DOB,type(DOB))"
   ]
  },
  {
   "cell_type": "code",
   "execution_count": null,
   "id": "69d114f4",
   "metadata": {},
   "outputs": [],
   "source": [
    "Q8:\n",
    "What day of the week was your day of birth?"
   ]
  },
  {
   "cell_type": "code",
   "execution_count": 30,
   "id": "7bbcc9bb",
   "metadata": {},
   "outputs": [
    {
     "data": {
      "text/plain": [
       "'Wednesday'"
      ]
     },
     "execution_count": 30,
     "metadata": {},
     "output_type": "execute_result"
    }
   ],
   "source": [
    "#Ans8:\n",
    "from datetime import datetime\n",
    "DOB = datetime(1988,5,11)\n",
    "DOB.strftime('%A')"
   ]
  },
  {
   "cell_type": "code",
   "execution_count": null,
   "id": "1e1dda6d",
   "metadata": {},
   "outputs": [],
   "source": [
    "Q9:\n",
    "When will you be (or when were you) 10,000 days old?"
   ]
  },
  {
   "cell_type": "code",
   "execution_count": 31,
   "id": "a3d3bd41",
   "metadata": {},
   "outputs": [
    {
     "data": {
      "text/plain": [
       "datetime.datetime(2015, 9, 27, 0, 0)"
      ]
     },
     "execution_count": 31,
     "metadata": {},
     "output_type": "execute_result"
    }
   ],
   "source": [
    "#Ans9:\n",
    "from datetime import datetime, timedelta\n",
    "dob = datetime.strptime(\"11/05/1988\",'%d/%m/%Y')\n",
    "Ten_K_D_O = my_dob+timedelta(10000)\n",
    "Ten_K_D_O"
   ]
  }
 ],
 "metadata": {
  "kernelspec": {
   "display_name": "Python 3 (ipykernel)",
   "language": "python",
   "name": "python3"
  },
  "language_info": {
   "codemirror_mode": {
    "name": "ipython",
    "version": 3
   },
   "file_extension": ".py",
   "mimetype": "text/x-python",
   "name": "python",
   "nbconvert_exporter": "python",
   "pygments_lexer": "ipython3",
   "version": "3.9.13"
  }
 },
 "nbformat": 4,
 "nbformat_minor": 5
}
