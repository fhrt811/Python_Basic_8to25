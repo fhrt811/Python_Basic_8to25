{
 "cells": [
  {
   "cell_type": "code",
   "execution_count": null,
   "id": "8e90adbf",
   "metadata": {},
   "outputs": [],
   "source": [
    "Q1:\n",
    "Create a list called years_list, starting with the year of your birth, and each year thereafter until the year of your \n",
    "fifth birthday. For example, if you were born in 1980. the list would be years_list = [1980, 1981, 1982, 1983, 1984, 1985]."
   ]
  },
  {
   "cell_type": "code",
   "execution_count": 1,
   "id": "f5bb5a16",
   "metadata": {},
   "outputs": [
    {
     "name": "stdout",
     "output_type": "stream",
     "text": [
      "[1988, 1989, 1990, 1991, 1992, 1993]\n"
     ]
    }
   ],
   "source": [
    "#Ans1:\n",
    "years_list = [year for year in range(1988,1988+6)]\n",
    "print(years_list)"
   ]
  },
  {
   "cell_type": "code",
   "execution_count": null,
   "id": "da15435e",
   "metadata": {},
   "outputs": [],
   "source": [
    "Q2:\n",
    "In which year in years_list was your third birthday? Remember, you were 0 years of age for your first year."
   ]
  },
  {
   "cell_type": "code",
   "execution_count": 3,
   "id": "eda43b98",
   "metadata": {},
   "outputs": [
    {
     "name": "stdout",
     "output_type": "stream",
     "text": [
      "1991\n"
     ]
    }
   ],
   "source": [
    "#Ans2:\n",
    "print(years_list[3])"
   ]
  },
  {
   "cell_type": "code",
   "execution_count": null,
   "id": "9469474e",
   "metadata": {},
   "outputs": [],
   "source": [
    "Q3:\n",
    "In the years list, which year were you the oldest?"
   ]
  },
  {
   "cell_type": "code",
   "execution_count": 6,
   "id": "a80a69a2",
   "metadata": {},
   "outputs": [
    {
     "name": "stdout",
     "output_type": "stream",
     "text": [
      "1993\n"
     ]
    }
   ],
   "source": [
    "#Ans3:\n",
    "print(years_list[-1])"
   ]
  },
  {
   "cell_type": "code",
   "execution_count": null,
   "id": "5ac6a440",
   "metadata": {},
   "outputs": [],
   "source": [
    "Q4:\n",
    "Make a list called things with these three strings as elements: \"mozzarella\", \"cinderella\", \"salmonella\"."
   ]
  },
  {
   "cell_type": "code",
   "execution_count": 13,
   "id": "acca9fa6",
   "metadata": {},
   "outputs": [
    {
     "name": "stdout",
     "output_type": "stream",
     "text": [
      "['mozzarella', 'cinderella', 'salmonella']\n"
     ]
    }
   ],
   "source": [
    "#Ans4:\n",
    "things = [item+'ella' for item in ['mozzar', 'cinder', 'salmon']]\n",
    "print(things)"
   ]
  },
  {
   "cell_type": "code",
   "execution_count": null,
   "id": "8ef8bd31",
   "metadata": {},
   "outputs": [],
   "source": [
    "Q5:\n",
    "Capitalize the element in things that refers to a person and then print the list. Did it change the element in the list?"
   ]
  },
  {
   "cell_type": "code",
   "execution_count": 15,
   "id": "8d9bce35",
   "metadata": {},
   "outputs": [
    {
     "name": "stdout",
     "output_type": "stream",
     "text": [
      "['mozzarella', 'cinderella', 'Salmonella']\n"
     ]
    }
   ],
   "source": [
    "#Ans5:\n",
    "for item in range(len(things)):\n",
    "    if things[item] == 'salmonella':\n",
    "        things[item] = things[item].capitalize()\n",
    "print(things)\n",
    "#yes it changed the element"
   ]
  },
  {
   "cell_type": "code",
   "execution_count": null,
   "id": "6b2cc615",
   "metadata": {},
   "outputs": [],
   "source": [
    "Q6:\n",
    "Make a surprise list with the elements \"Groucho,\" \"Chico,\" and \"Harpo.\""
   ]
  },
  {
   "cell_type": "code",
   "execution_count": 16,
   "id": "5e219105",
   "metadata": {},
   "outputs": [
    {
     "name": "stdout",
     "output_type": "stream",
     "text": [
      "['Groucho', 'Chico', 'Harpo']\n"
     ]
    }
   ],
   "source": [
    "#Ans6:\n",
    "supriseList = ['Groucho','Chico','Harpo']\n",
    "print(supriseList)"
   ]
  },
  {
   "cell_type": "code",
   "execution_count": null,
   "id": "f03fa6fd",
   "metadata": {},
   "outputs": [],
   "source": [
    "Q7:\n",
    "Lowercase the last element of the surprise list, reverse it, and then capitalize it."
   ]
  },
  {
   "cell_type": "code",
   "execution_count": 19,
   "id": "06654f52",
   "metadata": {},
   "outputs": [
    {
     "name": "stdout",
     "output_type": "stream",
     "text": [
      "Oprah\n"
     ]
    }
   ],
   "source": [
    "#Ans7:\n",
    "print(supriseList[-1].lower()[::-1].capitalize())"
   ]
  },
  {
   "cell_type": "code",
   "execution_count": null,
   "id": "766ffe63",
   "metadata": {},
   "outputs": [],
   "source": [
    "Q8:\n",
    "Make an English-to-French dictionary called e2f and print it.\n",
    "Here are your starter words: dog is chien, cat is chat, and walrus is morse."
   ]
  },
  {
   "cell_type": "code",
   "execution_count": 20,
   "id": "0f70f1f7",
   "metadata": {},
   "outputs": [
    {
     "name": "stdout",
     "output_type": "stream",
     "text": [
      "{'dog': 'chien', 'cat': 'chat', 'walrus': 'morse'}\n"
     ]
    }
   ],
   "source": [
    "#Ans8:\n",
    "e2f = {'dog':'chien','cat':'chat','walrus':'morse'}\n",
    "print(e2f)"
   ]
  },
  {
   "cell_type": "code",
   "execution_count": null,
   "id": "7ab589c1",
   "metadata": {},
   "outputs": [],
   "source": [
    "Q9:\n",
    "Write the French word for walrus in your three-word dictionary e2f."
   ]
  },
  {
   "cell_type": "code",
   "execution_count": 25,
   "id": "1e623e49",
   "metadata": {},
   "outputs": [
    {
     "name": "stdout",
     "output_type": "stream",
     "text": [
      "morse\n"
     ]
    }
   ],
   "source": [
    "#Ans9:\n",
    "print(e2f.get('walrus'))"
   ]
  },
  {
   "cell_type": "code",
   "execution_count": null,
   "id": "f1ce70f5",
   "metadata": {},
   "outputs": [],
   "source": [
    "Q10:\n",
    "Make a French-to-English dictionary called f2e from e2f. Use the items method."
   ]
  },
  {
   "cell_type": "code",
   "execution_count": 26,
   "id": "b3186280",
   "metadata": {},
   "outputs": [
    {
     "name": "stdout",
     "output_type": "stream",
     "text": [
      "{'chien': 'dog', 'chat': 'cat', 'morse': 'walrus'}\n"
     ]
    }
   ],
   "source": [
    "#Ans10:\n",
    "f2e = dict([item[::-1] for item in e2f.items()])\n",
    "print(f2e)"
   ]
  },
  {
   "cell_type": "code",
   "execution_count": null,
   "id": "4e50d0a8",
   "metadata": {},
   "outputs": [],
   "source": [
    "Q11:\n",
    "Print the English version of the French word chien using f2e."
   ]
  },
  {
   "cell_type": "code",
   "execution_count": 27,
   "id": "bb7f0ee5",
   "metadata": {},
   "outputs": [
    {
     "name": "stdout",
     "output_type": "stream",
     "text": [
      "dog\n"
     ]
    }
   ],
   "source": [
    "#Ans11:\n",
    "\n",
    "print(f2e.get('chien'))"
   ]
  },
  {
   "cell_type": "code",
   "execution_count": null,
   "id": "3f1cff3a",
   "metadata": {},
   "outputs": [],
   "source": [
    "Q12:\n",
    "Make and print a set of English words from the keys in e2f."
   ]
  },
  {
   "cell_type": "code",
   "execution_count": 29,
   "id": "2132157d",
   "metadata": {},
   "outputs": [
    {
     "name": "stdout",
     "output_type": "stream",
     "text": [
      "{'walrus', 'cat', 'dog'}\n"
     ]
    }
   ],
   "source": [
    "#Ans12\n",
    "print(set(e2f.keys()))"
   ]
  },
  {
   "cell_type": "code",
   "execution_count": null,
   "id": "903b300d",
   "metadata": {},
   "outputs": [],
   "source": [
    "Q13:\n",
    "Make a multilevel dictionary called life. Use these strings for the topmost keys: 'animals', 'plants', and 'other'.\n",
    "Make the 'animals' key refer to another dictionary with the keys 'cats', 'octopi', and 'emus'. Make the 'cats' key refer to\n",
    "a list of strings with the values 'Henri', 'Grumpy', and 'Lucy'. Make all the other keys refer to empty dictionaries."
   ]
  },
  {
   "cell_type": "code",
   "execution_count": 30,
   "id": "d8003a5f",
   "metadata": {},
   "outputs": [
    {
     "name": "stdout",
     "output_type": "stream",
     "text": [
      "{'animals': {'cats': ['Henri', 'Grumpy', 'Lucy'], 'octopi': {}, 'emus': {}}, 'plants': {}, 'other': {}}\n"
     ]
    }
   ],
   "source": [
    "#Ans13:\n",
    "life = {'animals':\n",
    "        {'cats':['Henri','Grumpy','Lucy'],\n",
    "        'octopi':{},\n",
    "        'emus':{}},\n",
    "    'plants':{},\n",
    "    'other':{}}\n",
    "print(life)"
   ]
  },
  {
   "cell_type": "code",
   "execution_count": null,
   "id": "2487161d",
   "metadata": {},
   "outputs": [],
   "source": [
    "Q14:\n",
    "Print the top-level keys of life."
   ]
  },
  {
   "cell_type": "code",
   "execution_count": 31,
   "id": "3e3c238a",
   "metadata": {},
   "outputs": [
    {
     "name": "stdout",
     "output_type": "stream",
     "text": [
      "['animals', 'plants', 'other']\n"
     ]
    }
   ],
   "source": [
    "#Ans14:\n",
    "print(list(life.keys()))"
   ]
  },
  {
   "cell_type": "code",
   "execution_count": null,
   "id": "c4297279",
   "metadata": {},
   "outputs": [],
   "source": [
    "Q15:\n",
    "Print the keys for life['animals']."
   ]
  },
  {
   "cell_type": "code",
   "execution_count": 32,
   "id": "24c756c8",
   "metadata": {},
   "outputs": [
    {
     "name": "stdout",
     "output_type": "stream",
     "text": [
      "['cats', 'octopi', 'emus']\n"
     ]
    }
   ],
   "source": [
    "#Ans15:\n",
    "print(list(life['animals'].keys()))"
   ]
  },
  {
   "cell_type": "code",
   "execution_count": null,
   "id": "95eabf44",
   "metadata": {},
   "outputs": [],
   "source": [
    "Q16:\n",
    "Print the values for life['animals']['cats']"
   ]
  },
  {
   "cell_type": "code",
   "execution_count": 33,
   "id": "c85a2c19",
   "metadata": {},
   "outputs": [
    {
     "name": "stdout",
     "output_type": "stream",
     "text": [
      "['Henri', 'Grumpy', 'Lucy']\n"
     ]
    }
   ],
   "source": [
    "#Ans16:\n",
    "print(life['animals']['cats'])"
   ]
  }
 ],
 "metadata": {
  "kernelspec": {
   "display_name": "Python 3 (ipykernel)",
   "language": "python",
   "name": "python3"
  },
  "language_info": {
   "codemirror_mode": {
    "name": "ipython",
    "version": 3
   },
   "file_extension": ".py",
   "mimetype": "text/x-python",
   "name": "python",
   "nbconvert_exporter": "python",
   "pygments_lexer": "ipython3",
   "version": "3.9.13"
  }
 },
 "nbformat": 4,
 "nbformat_minor": 5
}
