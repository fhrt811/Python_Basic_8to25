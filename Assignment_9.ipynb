{
 "cells": [
  {
   "cell_type": "code",
   "execution_count": null,
   "id": "1799e645",
   "metadata": {},
   "outputs": [],
   "source": [
    "Q1:\n",
    "To what does a relative path refer?"
   ]
  },
  {
   "cell_type": "code",
   "execution_count": null,
   "id": "6c347d1f",
   "metadata": {},
   "outputs": [],
   "source": [
    "Ans1:\n",
    "A relative path refers the location of a file relative to the current working directory (cwd)."
   ]
  },
  {
   "cell_type": "code",
   "execution_count": null,
   "id": "cac68f75",
   "metadata": {},
   "outputs": [],
   "source": [
    "Q2:\n",
    "What does an absolute path start with your operating system?"
   ]
  },
  {
   "cell_type": "code",
   "execution_count": null,
   "id": "9909bdbe",
   "metadata": {},
   "outputs": [],
   "source": [
    "Ans2:\n",
    "Absolute paths starts with the root folder, such as / or C:\\\\."
   ]
  },
  {
   "cell_type": "code",
   "execution_count": null,
   "id": "581bdb3b",
   "metadata": {},
   "outputs": [],
   "source": [
    "Q3:\n",
    "What do the functions os.getcwd() and os.chdir() do?"
   ]
  },
  {
   "cell_type": "code",
   "execution_count": null,
   "id": "3251ba74",
   "metadata": {},
   "outputs": [],
   "source": [
    "Ans3:\n",
    "The os.getcwd() function returns the current working directory.\n",
    "The os.chdir() function changes the current working directory."
   ]
  },
  {
   "cell_type": "code",
   "execution_count": null,
   "id": "459528ab",
   "metadata": {},
   "outputs": [],
   "source": [
    "Q4:\n",
    "What are the . and .. folders?"
   ]
  },
  {
   "cell_type": "code",
   "execution_count": null,
   "id": "bf7d89c4",
   "metadata": {},
   "outputs": [],
   "source": [
    "Ans4:\n",
    "The . folder is the current folder and .. folder is the parent folder."
   ]
  },
  {
   "cell_type": "code",
   "execution_count": null,
   "id": "02475a71",
   "metadata": {},
   "outputs": [],
   "source": [
    "Q5:\n",
    "In C:\\bacon\\eggs\\spam.txt, which part is the dir name, and which part is the base name?"
   ]
  },
  {
   "cell_type": "code",
   "execution_count": null,
   "id": "bac1652d",
   "metadata": {},
   "outputs": [],
   "source": [
    "Ans5:\n",
    "C:\\bacon\\eggs is the dir name and spam.txt is the base name."
   ]
  },
  {
   "cell_type": "code",
   "execution_count": null,
   "id": "d086d930",
   "metadata": {},
   "outputs": [],
   "source": [
    "Q6:\n",
    "What are the three \"mode\" arguments that can be passed to the open() function?"
   ]
  },
  {
   "cell_type": "code",
   "execution_count": null,
   "id": "e557faa9",
   "metadata": {},
   "outputs": [],
   "source": [
    "Ans6:\n",
    "The argument 'w' for write mode, argument 'r' for read mode, and argument 'a' for append mode."
   ]
  },
  {
   "cell_type": "code",
   "execution_count": null,
   "id": "153d2340",
   "metadata": {},
   "outputs": [],
   "source": [
    "Q7:\n",
    "What happens if an existing file is opened in write mode?"
   ]
  },
  {
   "cell_type": "code",
   "execution_count": null,
   "id": "416910d2",
   "metadata": {},
   "outputs": [],
   "source": [
    "Ans7:\n",
    "An existing file opened in write mode is deleted and overwritten completely."
   ]
  },
  {
   "cell_type": "code",
   "execution_count": null,
   "id": "dc180c60",
   "metadata": {},
   "outputs": [],
   "source": [
    "Q8:\n",
    "How do you tell the difference between read() and readlines()?"
   ]
  },
  {
   "cell_type": "code",
   "execution_count": null,
   "id": "a3d874e1",
   "metadata": {},
   "outputs": [],
   "source": [
    "Ans8:\n",
    "The method read() returns the entire content of the file as a single string value.\n",
    "The method readlines() returns a list of strings, where each string is a line from contents of the file."
   ]
  },
  {
   "cell_type": "code",
   "execution_count": null,
   "id": "8ae499f1",
   "metadata": {},
   "outputs": [],
   "source": [
    "Q9:\n",
    "What data structure does a shelf value resemble?"
   ]
  },
  {
   "cell_type": "code",
   "execution_count": null,
   "id": "0189d083",
   "metadata": {},
   "outputs": [],
   "source": [
    "Ans9:\n",
    "A shelf value resembles a dictionary value.\n",
    "It has keys and values along with keys() and values() methods that work similarly to the dictionary methods of the same names."
   ]
  }
 ],
 "metadata": {
  "kernelspec": {
   "display_name": "Python 3 (ipykernel)",
   "language": "python",
   "name": "python3"
  },
  "language_info": {
   "codemirror_mode": {
    "name": "ipython",
    "version": 3
   },
   "file_extension": ".py",
   "mimetype": "text/x-python",
   "name": "python",
   "nbconvert_exporter": "python",
   "pygments_lexer": "ipython3",
   "version": "3.9.13"
  }
 },
 "nbformat": 4,
 "nbformat_minor": 5
}
