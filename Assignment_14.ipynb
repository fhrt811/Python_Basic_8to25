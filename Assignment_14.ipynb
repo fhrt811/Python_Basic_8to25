{
 "cells": [
  {
   "cell_type": "code",
   "execution_count": null,
   "id": "8f10c720",
   "metadata": {},
   "outputs": [],
   "source": [
    "Q1:\n",
    "What does RGBA stands for?"
   ]
  },
  {
   "cell_type": "code",
   "execution_count": null,
   "id": "cb07abe4",
   "metadata": {},
   "outputs": [],
   "source": [
    "Ans1:\n",
    "RGBA is a four-channel format containing data for Red, Green, Blue, and an Alpha value.\n",
    "Where Alpha Represents the Opacity. Each value is a floating point number between 0.0 and 1.0. \n",
    "For example, the tuple (1, 0, 0, 1) represents an opaque red, while (0, 1, 0, 0.5) represents a half transparent green."
   ]
  },
  {
   "cell_type": "code",
   "execution_count": null,
   "id": "8c0eba13",
   "metadata": {},
   "outputs": [],
   "source": [
    "Q2:\n",
    "From the Pillow module, how do you get the RGBA value of any images?"
   ]
  },
  {
   "cell_type": "code",
   "execution_count": null,
   "id": "62e4b77d",
   "metadata": {},
   "outputs": [],
   "source": [
    "Ans2:\n",
    "Pillow offers the ImageColor.getcolor() function so you don’t have to memorize RGBA values for the colors you want to use.\n",
    "This function takes a color name string as its first argument, and the string 'RGBA' as its second argument,\n",
    "and it returns an RGBA tuple."
   ]
  },
  {
   "cell_type": "code",
   "execution_count": null,
   "id": "79d9a899",
   "metadata": {},
   "outputs": [],
   "source": [
    "Q3:\n",
    "What is a box tuple, and how does it work?"
   ]
  },
  {
   "cell_type": "code",
   "execution_count": null,
   "id": "0b5b024d",
   "metadata": {},
   "outputs": [],
   "source": [
    "Ans3:\n",
    "A box tuple is a tuple value of four integers: the left-edge x-coordinate, the top-edge y-coordinate,the width, \n",
    "and the height, respectively."
   ]
  },
  {
   "cell_type": "code",
   "execution_count": null,
   "id": "0fbac464",
   "metadata": {},
   "outputs": [],
   "source": [
    "Q4:\n",
    "Use your image and load in notebook then, How can you find out the width and height of an Image object?"
   ]
  },
  {
   "cell_type": "code",
   "execution_count": null,
   "id": "3a04aa6a",
   "metadata": {},
   "outputs": [],
   "source": [
    "Ans4:\n",
    "from PIL import Image\n",
    "\n",
    "pic = Image.open('Pic.jpg')\n",
    "print(f'Width, Height -> {pic.size}') # Method 1\n",
    "\n",
    "print(f'Width, Height -> {pic.width},{pic.height}') # Method 2\n",
    "\n",
    "width,height = pic.size\n",
    "print(f'Width, Height -> {width},{height}') # Method 3"
   ]
  },
  {
   "cell_type": "code",
   "execution_count": null,
   "id": "7646cf22",
   "metadata": {},
   "outputs": [],
   "source": [
    "Q5:\n",
    "What method would you call to get Image object for a 100×100 image, excluding the lower-left quarter of it?"
   ]
  },
  {
   "cell_type": "code",
   "execution_count": null,
   "id": "792de3ef",
   "metadata": {},
   "outputs": [],
   "source": [
    "Ans5:\n",
    "img = Image.open('Pic.jpg')\n",
    "new_img = img.crop((0,50,50,50))"
   ]
  },
  {
   "cell_type": "code",
   "execution_count": null,
   "id": "a1a92ec1",
   "metadata": {},
   "outputs": [],
   "source": [
    "Q6:\n",
    "After making changes to an Image object, how could you save it as an image file?"
   ]
  },
  {
   "cell_type": "code",
   "execution_count": null,
   "id": "b87c7f87",
   "metadata": {},
   "outputs": [],
   "source": [
    "Ans6:\n",
    "from PIL import Image\n",
    "pic = Image.open('pic.jpg')\n",
    "pic.save('pic2.jpg')"
   ]
  },
  {
   "cell_type": "code",
   "execution_count": null,
   "id": "04a7c62d",
   "metadata": {},
   "outputs": [],
   "source": [
    "Q7:\n",
    "What module contains Pillow’s shape-drawing code?"
   ]
  },
  {
   "cell_type": "code",
   "execution_count": null,
   "id": "225cb22f",
   "metadata": {},
   "outputs": [],
   "source": [
    "Ans7:\n",
    "Pillows ImageDraw module contains Shape drawing methods. The 'ImageDraw' module provides simple 2D graphics support for \n",
    "Image Object. Generally, we use this module to create new images, annotate or retouch existing images and to generate \n",
    "graphics on the fly for web use. The graphics commands support the drawing of shapes and annotation of text."
   ]
  },
  {
   "cell_type": "code",
   "execution_count": null,
   "id": "80ce2d89",
   "metadata": {},
   "outputs": [],
   "source": [
    "Q8:\n",
    "Image objects do not have drawing methods. What kind of object does? How do you get this kind of object?"
   ]
  },
  {
   "cell_type": "code",
   "execution_count": null,
   "id": "327f5b84",
   "metadata": {},
   "outputs": [],
   "source": [
    "Ans8:\n",
    "ImageDraw objects have shape-drawing methods such as point(), line(), or rectangle().\n",
    "They are returned by passing the Image object to the ImageDraw.Draw() function."
   ]
  }
 ],
 "metadata": {
  "kernelspec": {
   "display_name": "Python 3 (ipykernel)",
   "language": "python",
   "name": "python3"
  },
  "language_info": {
   "codemirror_mode": {
    "name": "ipython",
    "version": 3
   },
   "file_extension": ".py",
   "mimetype": "text/x-python",
   "name": "python",
   "nbconvert_exporter": "python",
   "pygments_lexer": "ipython3",
   "version": "3.9.13"
  }
 },
 "nbformat": 4,
 "nbformat_minor": 5
}
