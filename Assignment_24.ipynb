{
 "cells": [
  {
   "cell_type": "code",
   "execution_count": null,
   "id": "09e8b0b2",
   "metadata": {},
   "outputs": [],
   "source": [
    "Q1:\n",
    "What is the relationship between def statements and lambda expressions ?"
   ]
  },
  {
   "cell_type": "code",
   "execution_count": 1,
   "id": "aca25dec",
   "metadata": {},
   "outputs": [
    {
     "name": "stdout",
     "output_type": "stream",
     "text": [
      "8\n"
     ]
    }
   ],
   "source": [
    "#Ans1:\n",
    "#def statement is used to create a normal function with the help of a block of codes, whereas lambda function is used to\n",
    "#create an anonymous function with the help of a single line expression.\n",
    "#The expression is written in next line in case of def statement but in case of lambda function expression is written in same line.\n",
    "#lambda is less general than a def statement.\n",
    "\n",
    "#lambda function:\n",
    "x= lambda a,b:a+b\n",
    "print(x(3,5))"
   ]
  },
  {
   "cell_type": "code",
   "execution_count": null,
   "id": "1b7de1b0",
   "metadata": {},
   "outputs": [],
   "source": [
    "Q2:\n",
    "What is the benefit of lambda?"
   ]
  },
  {
   "cell_type": "code",
   "execution_count": null,
   "id": "4ea62609",
   "metadata": {},
   "outputs": [],
   "source": [
    "Ans2:\n",
    "Benefits of lambda expressions:\n",
    "\n",
    "It is used to create an Anonymous functions inside some complex functions if we are planning to use it only once.\n",
    "Moderate to small functions can be created in a single line.\n",
    "Fuctions created using lambda expressions can be assigned to a variable and can be used by simply calling the variable."
   ]
  },
  {
   "cell_type": "code",
   "execution_count": null,
   "id": "9b8a8485",
   "metadata": {},
   "outputs": [],
   "source": [
    "Q3:\n",
    "Compare and contrast map, filter, and reduce."
   ]
  },
  {
   "cell_type": "code",
   "execution_count": null,
   "id": "cb04df95",
   "metadata": {},
   "outputs": [],
   "source": [
    "map() function is a type of higher-order. This function takes another function as a parameter along with a sequence of \n",
    "iterables and returns an output after applying the function to each iterable present in the sequence.\n",
    "\n",
    "filter() function is used to create an output list consisting of values for which the function returns true.\n",
    "\n",
    "reduce() function, as the name describes, applies a given function to the iterables and returns a single value."
   ]
  },
  {
   "cell_type": "code",
   "execution_count": 8,
   "id": "5835e07a",
   "metadata": {},
   "outputs": [
    {
     "name": "stdout",
     "output_type": "stream",
     "text": [
      "Map function: [1, 4, 9, 16, 25]\n",
      "Filter function: [2, 4, 6]\n",
      "Reduce function: 120\n"
     ]
    }
   ],
   "source": [
    "from functools import reduce\n",
    "\n",
    "print('Map function:',list(map(lambda x:x**2, [1,2,3,4,5])))\n",
    "\n",
    "print('Filter function:', list(filter(lambda x:x%2 == 0, [1,2,3,4,5,6])))\n",
    "\n",
    "print('Reduce function:',reduce(lambda x,y:x*y, [1,2,3,4,5]))"
   ]
  },
  {
   "cell_type": "code",
   "execution_count": null,
   "id": "32e3d35d",
   "metadata": {},
   "outputs": [],
   "source": [
    "Q4:\n",
    "What are function annotations, and how are they used?"
   ]
  },
  {
   "cell_type": "code",
   "execution_count": null,
   "id": "50e24c8d",
   "metadata": {},
   "outputs": [],
   "source": [
    "Ans4:\n",
    "Function annotations provide a way of associating various parts of a function with arbitrary python expressions at compile time.\n",
    "Annotations of simple parameters def func(x: expression, y: expression = 30):\n",
    "Whereas the annotations for excess parameters are as − def func (**args: expression, **kwargs: expression):\n",
    "\n",
    "Purpose of Function Annotations:\n",
    "\n",
    "Python supports dynamic typing and hence no module is provided for type checking.\n",
    "String based annotations can be used by the libraries to provide better help messages at compile time regarding the \n",
    "functionalities of various methods, classes and modules.\n",
    "Example of Annotations:\n",
    "\n",
    "Annotations for simple parameters : def fun(a: expression, b: expression = 10):\n",
    "Annotations for excess parameters : def fun(*args: expression, **kwargs: expression):\n",
    "Annotations for nested parameters : def fun((a: expression, b: expression), (c: expression, d: expression)):"
   ]
  },
  {
   "cell_type": "code",
   "execution_count": null,
   "id": "8accd55b",
   "metadata": {},
   "outputs": [],
   "source": [
    "Q5:\n",
    "What are recursive functions, and how are they used?"
   ]
  },
  {
   "cell_type": "code",
   "execution_count": 13,
   "id": "31bbb8f6",
   "metadata": {},
   "outputs": [
    {
     "name": "stdout",
     "output_type": "stream",
     "text": [
      "1\n",
      "3\n",
      "6\n",
      "10\n",
      "15\n",
      "21\n"
     ]
    },
    {
     "data": {
      "text/plain": [
       "21"
      ]
     },
     "execution_count": 13,
     "metadata": {},
     "output_type": "execute_result"
    }
   ],
   "source": [
    "#Ans5:\n",
    "#Recursive functions are functions that calls itself. It is always made up of 2 portions,the base case and the recursive case.\n",
    "#The base case is the condition to stop the recursion. The recursive case is the part where the function calls on itself\n",
    "#The execution may repeat several times, output the result at the end of each iteration.\n",
    "#It somewhat similar to reduce function.\n",
    "def rec_func(r):\n",
    "    if(r>0):\n",
    "        result = r+rec_func(r-1)\n",
    "        print(result)\n",
    "    else:\n",
    "        result = 0\n",
    "    return result\n",
    "\n",
    "rec_func(6)\n",
    "\n",
    "#result is:\n",
    "#1 (here r=1, then result = 1+rec_func(1-1)=1+0=1)\n",
    "#3 (here r=2, then result = 2+rec_func(2-1)=2+1=3)\n",
    "#6 (here r=3, then result = 3+rec_func(3-1)=3+3=6)\n",
    "#10 (here r=4, then result = 4+rec_func(4-1)=4+6=10)\n",
    "#15 (here r=5, then result = 5+rec_func(5-1)=5+10=15)\n",
    "#21 (here r=6, then result = 6+rec_func(6-1)=6+15=21)\n",
    "\n",
    "#output is 21"
   ]
  },
  {
   "cell_type": "code",
   "execution_count": null,
   "id": "a68ec566",
   "metadata": {},
   "outputs": [],
   "source": [
    "Q6:\n",
    "What are some general design guidelines for coding functions?"
   ]
  },
  {
   "cell_type": "code",
   "execution_count": null,
   "id": "4e972bd4",
   "metadata": {},
   "outputs": [],
   "source": [
    "#Ans6:\n",
    "Some of the general design guidelines for coding functions are:\n",
    "\n",
    "1.Always use a docstring to explain the functionality of the function\n",
    "2.Avoid using or limit use of global variables\n",
    "3.Proper Indentation to increase the code readability\n",
    "4.Try to follow a proper naming convention for function names (pascalCase or camelCase) and stick with the same convention\n",
    "throughout the application.\n",
    "5.Avoid using digits while choosing a variable name\n",
    "6.Try to use a name for the function which conveys the purpose of the function\n",
    "7.Local variables should be named using camelCase format (ex: localVariable) whereas Global variables names should be using\n",
    "PascalCase (ex:GlobalVariable).\n",
    "8.Constant should be represented in allcaps (ex:CONSTANT)."
   ]
  },
  {
   "cell_type": "code",
   "execution_count": null,
   "id": "7d7dcf66",
   "metadata": {},
   "outputs": [],
   "source": [
    "Q7:\n",
    "Name three or more ways that functions can communicate results to a caller."
   ]
  },
  {
   "cell_type": "code",
   "execution_count": null,
   "id": "6dd37fb3",
   "metadata": {},
   "outputs": [],
   "source": [
    "Ans7:\n",
    "The function can communicate results to a caller in following ways:\n",
    "print\n",
    "return\n",
    "yield"
   ]
  }
 ],
 "metadata": {
  "kernelspec": {
   "display_name": "Python 3 (ipykernel)",
   "language": "python",
   "name": "python3"
  },
  "language_info": {
   "codemirror_mode": {
    "name": "ipython",
    "version": 3
   },
   "file_extension": ".py",
   "mimetype": "text/x-python",
   "name": "python",
   "nbconvert_exporter": "python",
   "pygments_lexer": "ipython3",
   "version": "3.9.13"
  }
 },
 "nbformat": 4,
 "nbformat_minor": 5
}
