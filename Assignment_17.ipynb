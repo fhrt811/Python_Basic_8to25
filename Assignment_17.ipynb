{
 "cells": [
  {
   "cell_type": "code",
   "execution_count": null,
   "id": "1bb85a4d",
   "metadata": {},
   "outputs": [],
   "source": [
    "Q1.\n",
    "Assign the value 7 to the variable guess_me. Then, write the conditional tests (if, else, and elif) to print\n",
    "the string 'too low' if guess_me is less than 7, 'too high' if greater than 7, and 'just right' if equal to 7."
   ]
  },
  {
   "cell_type": "code",
   "execution_count": 5,
   "id": "46935dab",
   "metadata": {},
   "outputs": [
    {
     "name": "stdout",
     "output_type": "stream",
     "text": [
      "just Right\n"
     ]
    }
   ],
   "source": [
    "#Ans1:\n",
    "guess_me=7\n",
    "if guess_me < 7:\n",
    "    print('too Low')\n",
    "elif guess_me > 7:\n",
    "    print('too High')\n",
    "else:\n",
    "    print('just Right')"
   ]
  },
  {
   "cell_type": "code",
   "execution_count": null,
   "id": "b2026222",
   "metadata": {},
   "outputs": [],
   "source": [
    "Q2:\n",
    "Assign the value 7 to the variable guess_me and the value 1 to the variable start. Write a while loop that compares start \n",
    "with guess_me. Print too low if start is less than guess me. If start equals guess_me, print 'found it!' and exit the loop.\n",
    "If start is greater than guess_me, print 'oops' and exit the loop. Increment start at the end of the loop"
   ]
  },
  {
   "cell_type": "code",
   "execution_count": 7,
   "id": "37d6d92d",
   "metadata": {},
   "outputs": [
    {
     "name": "stdout",
     "output_type": "stream",
     "text": [
      "too low\n",
      "too low\n",
      "too low\n",
      "too low\n",
      "too low\n",
      "too low\n",
      "found it\n"
     ]
    }
   ],
   "source": [
    "#Ans2:\n",
    "guess_me = 7\n",
    "start = 1\n",
    "while True:\n",
    "    if start < guess_me:\n",
    "        print('too low')\n",
    "    elif start == guess_me:\n",
    "        print('found it')\n",
    "        break\n",
    "    else:\n",
    "        print('oops')\n",
    "        break\n",
    "    start += 1"
   ]
  },
  {
   "cell_type": "code",
   "execution_count": null,
   "id": "708ef351",
   "metadata": {},
   "outputs": [],
   "source": [
    "Q3:\n",
    "Print the following values of the list [3, 2, 1, 0] using a for loop."
   ]
  },
  {
   "cell_type": "code",
   "execution_count": 6,
   "id": "5fdb4352",
   "metadata": {},
   "outputs": [
    {
     "name": "stdout",
     "output_type": "stream",
     "text": [
      "3\n",
      "2\n",
      "1\n",
      "0\n"
     ]
    }
   ],
   "source": [
    "#Ans3:\n",
    "in_list = [3,2,1,0]\n",
    "for test in in_list:\n",
    "    print(test)"
   ]
  },
  {
   "cell_type": "code",
   "execution_count": null,
   "id": "c2c85a97",
   "metadata": {},
   "outputs": [],
   "source": [
    "Q4:\n",
    "Use a list comprehension to make a list of the even numbers in range(10)"
   ]
  },
  {
   "cell_type": "code",
   "execution_count": 8,
   "id": "3a25115e",
   "metadata": {},
   "outputs": [
    {
     "name": "stdout",
     "output_type": "stream",
     "text": [
      "[0, 2, 4, 6, 8, 10]\n"
     ]
    }
   ],
   "source": [
    "#Ans4:\n",
    "print([x for x in range(10+1) if x%2==0 ])"
   ]
  },
  {
   "cell_type": "code",
   "execution_count": null,
   "id": "f40e80c8",
   "metadata": {},
   "outputs": [],
   "source": [
    "Q5:\n",
    "Use a dictionary comprehension to create the dictionary squares. Use range(10) to return the keys, \n",
    "and use the square of each key as its value."
   ]
  },
  {
   "cell_type": "code",
   "execution_count": 12,
   "id": "bd64533d",
   "metadata": {},
   "outputs": [
    {
     "name": "stdout",
     "output_type": "stream",
     "text": [
      "{0: 0, 1: 1, 2: 4, 3: 9, 4: 16, 5: 25, 6: 36, 7: 49, 8: 64, 9: 81}\n"
     ]
    }
   ],
   "source": [
    "#Ans5:\n",
    "print({x:x**2 for x in range(10)})"
   ]
  },
  {
   "cell_type": "code",
   "execution_count": null,
   "id": "288fa65b",
   "metadata": {},
   "outputs": [],
   "source": [
    "Q6:\n",
    "Construct the set odd from the odd numbers in the range using a set comprehension (10)."
   ]
  },
  {
   "cell_type": "code",
   "execution_count": 13,
   "id": "1afbc335",
   "metadata": {},
   "outputs": [
    {
     "name": "stdout",
     "output_type": "stream",
     "text": [
      "{1, 3, 5, 7, 9}\n"
     ]
    }
   ],
   "source": [
    "#Ans6:\n",
    "print(set(x for x in range(10) if x%2 !=0))"
   ]
  },
  {
   "cell_type": "code",
   "execution_count": null,
   "id": "62dc3502",
   "metadata": {},
   "outputs": [],
   "source": [
    "Q7:\n",
    "Use a generator comprehension to return the string 'Got ' and a number for the numbers in range(10).\n",
    "Iterate through this by using a for loop"
   ]
  },
  {
   "cell_type": "code",
   "execution_count": 14,
   "id": "c3f29602",
   "metadata": {},
   "outputs": [
    {
     "name": "stdout",
     "output_type": "stream",
     "text": [
      "Got 0 Got 1 Got 2 Got 3 Got 4 Got 5 Got 6 Got 7 Got 8 Got 9 "
     ]
    }
   ],
   "source": [
    "#Ans7:\n",
    "gen_comp = ('Got ' + str(x) for x in range(10))\n",
    "for item in gen_comp:\n",
    "    print(item, end=' ')"
   ]
  },
  {
   "cell_type": "code",
   "execution_count": null,
   "id": "fee2687a",
   "metadata": {},
   "outputs": [],
   "source": [
    "Q8:\n",
    "Define a function called good that returns the list ['Harry', 'Ron', 'Hermione']."
   ]
  },
  {
   "cell_type": "code",
   "execution_count": 15,
   "id": "90af1d09",
   "metadata": {},
   "outputs": [
    {
     "name": "stdout",
     "output_type": "stream",
     "text": [
      "['Harry', 'Ron', 'Hermione']\n"
     ]
    }
   ],
   "source": [
    "#Ans8:\n",
    "def good():\n",
    "    A=['Harry', 'Ron', 'Hermione']\n",
    "    return A\n",
    "print(good())"
   ]
  },
  {
   "cell_type": "code",
   "execution_count": null,
   "id": "56a1bf32",
   "metadata": {},
   "outputs": [],
   "source": [
    "Q9:\n",
    "Define a generator function called get_odds that returns the odd numbers from range(10).\n",
    "Use a for loop to find and print the third value returned."
   ]
  },
  {
   "cell_type": "code",
   "execution_count": 16,
   "id": "baecdfec",
   "metadata": {},
   "outputs": [
    {
     "data": {
      "text/plain": [
       "5"
      ]
     },
     "execution_count": 16,
     "metadata": {},
     "output_type": "execute_result"
    }
   ],
   "source": [
    "#Ans9:\n",
    "def get_odds():\n",
    "    output = []\n",
    "    for task in range(10):\n",
    "        if task%2 != 0:\n",
    "            output.append(task)\n",
    "    yield output\n",
    "\n",
    "next(get_odds())[2]"
   ]
  },
  {
   "cell_type": "code",
   "execution_count": null,
   "id": "a4841784",
   "metadata": {},
   "outputs": [],
   "source": [
    "Q10:\n",
    "Define an exception called OopsException. Raise this exception to see what happens.\n",
    "Then write the code to catch this exception and print 'Caught an oops'."
   ]
  },
  {
   "cell_type": "code",
   "execution_count": 17,
   "id": "94985169",
   "metadata": {},
   "outputs": [
    {
     "name": "stdout",
     "output_type": "stream",
     "text": [
      "Caught in Oops  name 'a' is not defined\n"
     ]
    }
   ],
   "source": [
    "#Ans10:\n",
    "class OopsException(Exception):\n",
    "    pass\n",
    "\n",
    "def test(input):\n",
    "    if input <0:\n",
    "        raise OopsException(a)\n",
    "try:\n",
    "    test(-100)\n",
    "except Exception as e:\n",
    "    print('Caught in Oops ',e)"
   ]
  },
  {
   "cell_type": "code",
   "execution_count": null,
   "id": "926c27fe",
   "metadata": {},
   "outputs": [],
   "source": [
    "Q11:\n",
    "Use zip() to make a dictionary called movies that pairs these lists: titles = ['Creature of Habit', 'Crewel Fate'] and plots\n",
    "= ['A nun turns into a monster', 'A haunted yarn shop']."
   ]
  },
  {
   "cell_type": "code",
   "execution_count": 18,
   "id": "1a02b5b9",
   "metadata": {},
   "outputs": [
    {
     "name": "stdout",
     "output_type": "stream",
     "text": [
      "{'Creature of Habit': 'A nun turns into a monster', 'Crewel Fate': 'A haunted yarn shop'}\n"
     ]
    }
   ],
   "source": [
    "#Ans11:\n",
    "titles = ['Creature of Habit', 'Crewel Fate']\n",
    "plots = ['A nun turns into a monster', 'A haunted yarn shop']\n",
    "output = dict(zip(titles,plots))\n",
    "print(output)"
   ]
  }
 ],
 "metadata": {
  "kernelspec": {
   "display_name": "Python 3 (ipykernel)",
   "language": "python",
   "name": "python3"
  },
  "language_info": {
   "codemirror_mode": {
    "name": "ipython",
    "version": 3
   },
   "file_extension": ".py",
   "mimetype": "text/x-python",
   "name": "python",
   "nbconvert_exporter": "python",
   "pygments_lexer": "ipython3",
   "version": "3.9.13"
  }
 },
 "nbformat": 4,
 "nbformat_minor": 5
}
