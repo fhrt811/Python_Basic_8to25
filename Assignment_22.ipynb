{
 "cells": [
  {
   "cell_type": "code",
   "execution_count": null,
   "id": "ec82bce5",
   "metadata": {},
   "outputs": [],
   "source": [
    "Q1:\n",
    "What is the result of the code, and explain?\n",
    ">>> X = 'iNeuron'\n",
    ">>> def func():\n",
    "print(X)\n",
    "\n",
    ">>> func()"
   ]
  },
  {
   "cell_type": "code",
   "execution_count": 1,
   "id": "903bdceb",
   "metadata": {},
   "outputs": [
    {
     "name": "stdout",
     "output_type": "stream",
     "text": [
      "iNeuron\n"
     ]
    }
   ],
   "source": [
    "#Ans1:\n",
    "#The resut of this code will be 'iNeuron' (without quotes), because the function will find initially for the variable X in its local scope,\n",
    "#but there is no local variable X, then it returns the global variable X, whose value is 'iNeuron'.\n",
    "\n",
    "X = 'iNeuron'\n",
    "def func():\n",
    "    print(X)\n",
    "    \n",
    "func()"
   ]
  },
  {
   "cell_type": "code",
   "execution_count": null,
   "id": "b02a419c",
   "metadata": {},
   "outputs": [],
   "source": [
    "Q2:\n",
    "What is the result of the code, and explain?\n",
    ">>> X = 'iNeuron'\n",
    ">>> def func():\n",
    "X = 'NI!'\n",
    "\n",
    ">>> func()\n",
    ">>> print(X)"
   ]
  },
  {
   "cell_type": "code",
   "execution_count": 7,
   "id": "e4cc0cc5",
   "metadata": {},
   "outputs": [
    {
     "name": "stdout",
     "output_type": "stream",
     "text": [
      "iNeuron\n"
     ]
    }
   ],
   "source": [
    "#Ans2:\n",
    "#The result of this code will be 'iNeuron' (excluding quotes), the function will look for the value of X in local scope\n",
    "#which is available and its value is 'NI!', but the print function is outside the local scope and will print the value of \n",
    "# X in global scope, which is 'iNeuron'\n",
    "X = 'iNeuron'\n",
    "def func():\n",
    "    X = 'NI!'\n",
    "    \n",
    "func()\n",
    "print(X)"
   ]
  },
  {
   "cell_type": "code",
   "execution_count": null,
   "id": "36d6b2b5",
   "metadata": {},
   "outputs": [],
   "source": [
    "Q3:\n",
    "What does this code print, and why?\n",
    ">>> X = 'iNeuron'\n",
    ">>> def func():\n",
    "X = 'NI'\n",
    "print(X)\n",
    "\n",
    ">>> func()\n",
    ">>> print(X)"
   ]
  },
  {
   "cell_type": "code",
   "execution_count": 6,
   "id": "f7b9eb01",
   "metadata": {},
   "outputs": [
    {
     "name": "stdout",
     "output_type": "stream",
     "text": [
      "NI\n",
      "iNeuron\n"
     ]
    }
   ],
   "source": [
    "#Ans3:\n",
    "#This code will print 'NI' and 'iNeuron' (excluding quotes and in two lines) because calling the function func() will look\n",
    "# for the value of X in local scope which is 'NI' and the print function will look for the value of X in global scope which is \n",
    "# 'iNeuron'\n",
    "X = 'iNeuron'\n",
    "def func():\n",
    "    X = 'NI'\n",
    "    print(X)\n",
    "    \n",
    "func()\n",
    "print(X)"
   ]
  },
  {
   "cell_type": "code",
   "execution_count": null,
   "id": "b4c1cf01",
   "metadata": {},
   "outputs": [],
   "source": [
    "Q4:\n",
    "What output does this code produce? Why?\n",
    ">>> X = 'iNeuron'\n",
    ">>> def func():\n",
    "global X\n",
    "X = 'NI'\n",
    "\n",
    ">>> func()\n",
    ">>> print(X)"
   ]
  },
  {
   "cell_type": "code",
   "execution_count": 8,
   "id": "341f6b6b",
   "metadata": {},
   "outputs": [
    {
     "name": "stdout",
     "output_type": "stream",
     "text": [
      "NI\n"
     ]
    }
   ],
   "source": [
    "#Ans4:\n",
    "#The output of the code is NI. The global keyword allows a variable to be accessible in the current scope.\n",
    "#Since we are using global keyword inside the function func, it directly accesses the variable X in global scope and \n",
    "#changes its value to NI\n",
    "X = 'iNeuron'\n",
    "def func():\n",
    "    global X\n",
    "    X = 'NI'\n",
    "\n",
    "func()\n",
    "print(X)"
   ]
  },
  {
   "cell_type": "code",
   "execution_count": null,
   "id": "7e20e1fa",
   "metadata": {},
   "outputs": [],
   "source": [
    "Q5:\n",
    "What about this code—what’s the output, and why?\n",
    ">>> X = 'iNeuron'\n",
    ">>> def func():\n",
    "X = 'NI'\n",
    "def nested():\n",
    "print(X)\n",
    "nested()\n",
    "\n",
    ">>> func()\n",
    ">>> X"
   ]
  },
  {
   "cell_type": "code",
   "execution_count": 10,
   "id": "156e4e0f",
   "metadata": {},
   "outputs": [
    {
     "name": "stdout",
     "output_type": "stream",
     "text": [
      "NI\n"
     ]
    },
    {
     "data": {
      "text/plain": [
       "'iNeuron'"
      ]
     },
     "execution_count": 10,
     "metadata": {},
     "output_type": "execute_result"
    }
   ],
   "source": [
    "#Ans5:\n",
    "#The output of the code is 'NI' and 'iNeuron'. Output of func() is 'NI' because it has a variable X as 'NI' in its local scope\n",
    "#whereas Output of X is 'iNeuron' because it refers to variable X that is having global scope instead of referring to a \n",
    "#variable having a local scope in a function.\n",
    "X = 'iNeuron'\n",
    "def func():\n",
    "    X = 'NI'\n",
    "    def nested():\n",
    "        print(X)\n",
    "    nested()\n",
    "\n",
    "func()\n",
    "X"
   ]
  },
  {
   "cell_type": "code",
   "execution_count": null,
   "id": "a4c48e38",
   "metadata": {},
   "outputs": [],
   "source": [
    "Q6:\n",
    "How about this code: what is its output in Python 3, and explain?\n",
    ">>> def func():\n",
    "X = 'NI'\n",
    "def nested():\n",
    "nonlocal X\n",
    "X = 'Spam'\n",
    "nested()\n",
    "print(X)\n",
    ">>> func()"
   ]
  },
  {
   "cell_type": "code",
   "execution_count": 11,
   "id": "899e3f59",
   "metadata": {},
   "outputs": [
    {
     "name": "stdout",
     "output_type": "stream",
     "text": [
      "Spam\n"
     ]
    }
   ],
   "source": [
    "#Ans6:\n",
    "#The output of the code is 'Spam'. nonlocal keyword in python is used to declare a variable as not local.\n",
    "#Therefore the statement X = \"Spam\" is modified in the global scope. Hence the output of print(X) statement is 'Spam'.\n",
    "def func():\n",
    "    X = 'NI'\n",
    "    def nested():\n",
    "        nonlocal X\n",
    "        X = 'Spam'\n",
    "    nested()\n",
    "    print(X)\n",
    "func()"
   ]
  }
 ],
 "metadata": {
  "kernelspec": {
   "display_name": "Python 3 (ipykernel)",
   "language": "python",
   "name": "python3"
  },
  "language_info": {
   "codemirror_mode": {
    "name": "ipython",
    "version": 3
   },
   "file_extension": ".py",
   "mimetype": "text/x-python",
   "name": "python",
   "nbconvert_exporter": "python",
   "pygments_lexer": "ipython3",
   "version": "3.9.13"
  }
 },
 "nbformat": 4,
 "nbformat_minor": 5
}
