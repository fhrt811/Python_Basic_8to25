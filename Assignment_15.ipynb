{
 "cells": [
  {
   "cell_type": "code",
   "execution_count": null,
   "id": "5d5b6c4f",
   "metadata": {},
   "outputs": [],
   "source": [
    "Q1:\n",
    "How many seconds are in an hour? Use the interactive interpreter as a calculator and \n",
    "multiply the number of seconds in a minute (60) by the number of minutes in an hour (also 60)."
   ]
  },
  {
   "cell_type": "code",
   "execution_count": null,
   "id": "872e99db",
   "metadata": {},
   "outputs": [],
   "source": [
    "Ans1:\n",
    "print(60*60)"
   ]
  },
  {
   "cell_type": "code",
   "execution_count": null,
   "id": "9bab3545",
   "metadata": {},
   "outputs": [],
   "source": [
    "Q2:\n",
    "Assign the result from the previous task (seconds in an hour) to a variable called seconds_per_hour."
   ]
  },
  {
   "cell_type": "code",
   "execution_count": 1,
   "id": "ac28f80c",
   "metadata": {},
   "outputs": [
    {
     "name": "stdout",
     "output_type": "stream",
     "text": [
      "3600\n"
     ]
    }
   ],
   "source": [
    "#Ans2:\n",
    "seconds_per_hour = 60*60\n",
    "print(seconds_per_hour)"
   ]
  },
  {
   "cell_type": "code",
   "execution_count": null,
   "id": "772779b7",
   "metadata": {},
   "outputs": [],
   "source": [
    "Q3:\n",
    "How many seconds do you think there are in a day? Make use of the variables seconds per hour and minutes per hour."
   ]
  },
  {
   "cell_type": "code",
   "execution_count": 2,
   "id": "97c5eec4",
   "metadata": {},
   "outputs": [
    {
     "name": "stdout",
     "output_type": "stream",
     "text": [
      "86400\n"
     ]
    }
   ],
   "source": [
    "#Ans3:\n",
    "minutes_per_hour = 60\n",
    "print(seconds_per_hour*24)"
   ]
  },
  {
   "cell_type": "code",
   "execution_count": null,
   "id": "02999d8d",
   "metadata": {},
   "outputs": [],
   "source": [
    "Q4:\n",
    "Calculate seconds per day again, but this time save the result in a variable called seconds_per_day"
   ]
  },
  {
   "cell_type": "code",
   "execution_count": 3,
   "id": "e54f226d",
   "metadata": {},
   "outputs": [
    {
     "name": "stdout",
     "output_type": "stream",
     "text": [
      "86400\n"
     ]
    }
   ],
   "source": [
    "#Ans4:\n",
    "seconds_per_day = 24*60*60\n",
    "print(seconds_per_day)"
   ]
  },
  {
   "cell_type": "code",
   "execution_count": null,
   "id": "41cd02e8",
   "metadata": {},
   "outputs": [],
   "source": [
    "Q5:\n",
    "Divide seconds_per_day by seconds_per_hour. Use floating-point (/) division."
   ]
  },
  {
   "cell_type": "code",
   "execution_count": 5,
   "id": "d6ecaf34",
   "metadata": {},
   "outputs": [
    {
     "name": "stdout",
     "output_type": "stream",
     "text": [
      "24.0\n",
      "<class 'float'>\n"
     ]
    }
   ],
   "source": [
    "#Ans5:\n",
    "print(seconds_per_day/seconds_per_hour)\n",
    "print(type(seconds_per_day/seconds_per_hour))"
   ]
  },
  {
   "cell_type": "code",
   "execution_count": null,
   "id": "596af0ee",
   "metadata": {},
   "outputs": [],
   "source": [
    "Q6:\n",
    "Divide seconds_per_day by seconds_per_hour, using integer (//) division.\n",
    "Did this number agree with the floating-point value from the previous question, aside from the final .0?"
   ]
  },
  {
   "cell_type": "code",
   "execution_count": 9,
   "id": "4a731359",
   "metadata": {},
   "outputs": [
    {
     "name": "stdout",
     "output_type": "stream",
     "text": [
      "24, Yes this value agree with the floating point value from the previous question\n",
      "<class 'int'>\n"
     ]
    }
   ],
   "source": [
    "#Ans6:\n",
    "print(seconds_per_day//seconds_per_hour, end='')\n",
    "print(', Yes this value agree with the floating point value from the previous question')\n",
    "print(type(seconds_per_day//seconds_per_hour))"
   ]
  },
  {
   "cell_type": "code",
   "execution_count": null,
   "id": "dd5bb5b4",
   "metadata": {},
   "outputs": [],
   "source": [
    "Q7:\n",
    "Write a generator, genPrimes, that returns the sequence of prime numbers on successive calls to \n",
    "its next() method: 2, 3, 5, 7, 11, ..."
   ]
  },
  {
   "cell_type": "code",
   "execution_count": 15,
   "id": "0e933228",
   "metadata": {},
   "outputs": [
    {
     "name": "stdout",
     "output_type": "stream",
     "text": [
      "2\n",
      "3\n",
      "5\n",
      "7\n",
      "11\n",
      "13\n",
      "17\n",
      "19\n",
      "23\n",
      "25\n",
      "29\n",
      "31\n",
      "35\n",
      "37\n",
      "41\n",
      "43\n",
      "47\n",
      "49\n",
      "53\n",
      "55\n",
      "59\n",
      "61\n",
      "65\n",
      "67\n",
      "71\n",
      "73\n",
      "77\n",
      "79\n",
      "83\n",
      "85\n",
      "89\n",
      "91\n",
      "95\n",
      "97\n",
      "101\n",
      "103\n",
      "107\n",
      "109\n",
      "113\n",
      "115\n",
      "119\n",
      "121\n",
      "125\n",
      "127\n",
      "131\n",
      "133\n",
      "137\n",
      "139\n",
      "143\n",
      "145\n"
     ]
    }
   ],
   "source": [
    "#Ans7:\n",
    "def genPrimes():\n",
    "    n = 0\n",
    "    while True:\n",
    "        if n == 2 or n == 3 :\n",
    "            yield n\n",
    "        elif ((n-1)%6 == 0 or (n+1)%6 == 0) and n !=1:\n",
    "            yield n\n",
    "        n = n+1\n",
    "        \n",
    "result = genPrimes()\n",
    "for element in range(50):\n",
    "    print(next(result))"
   ]
  }
 ],
 "metadata": {
  "kernelspec": {
   "display_name": "Python 3 (ipykernel)",
   "language": "python",
   "name": "python3"
  },
  "language_info": {
   "codemirror_mode": {
    "name": "ipython",
    "version": 3
   },
   "file_extension": ".py",
   "mimetype": "text/x-python",
   "name": "python",
   "nbconvert_exporter": "python",
   "pygments_lexer": "ipython3",
   "version": "3.9.13"
  }
 },
 "nbformat": 4,
 "nbformat_minor": 5
}
