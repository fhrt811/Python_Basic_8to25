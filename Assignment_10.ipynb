{
 "cells": [
  {
   "cell_type": "code",
   "execution_count": null,
   "id": "f64a6d30",
   "metadata": {},
   "outputs": [],
   "source": [
    "Q1:\n",
    "How do you distinguish between shutil.copy() and shutil.copytree()?"
   ]
  },
  {
   "cell_type": "code",
   "execution_count": null,
   "id": "9ad55231",
   "metadata": {},
   "outputs": [],
   "source": [
    "Ans1:\n",
    "The shutil.copy() function will copy a single file,\n",
    "while shutil.copytree() will copy an entire folder, along with all its contents."
   ]
  },
  {
   "cell_type": "code",
   "execution_count": null,
   "id": "0439d1b5",
   "metadata": {},
   "outputs": [],
   "source": [
    "Q2:\n",
    "What function is used to rename files?"
   ]
  },
  {
   "cell_type": "code",
   "execution_count": null,
   "id": "c73c0383",
   "metadata": {},
   "outputs": [],
   "source": [
    "Ans2:\n",
    "The shutil.move() function is used for renaming files, also for moving them."
   ]
  },
  {
   "cell_type": "code",
   "execution_count": null,
   "id": "b639870f",
   "metadata": {},
   "outputs": [],
   "source": [
    "Q3:\n",
    "What is the difference between the delete functions in the send2trash and shutil modules?"
   ]
  },
  {
   "cell_type": "code",
   "execution_count": null,
   "id": "63bddd2e",
   "metadata": {},
   "outputs": [],
   "source": [
    "Ans3:\n",
    "The send2trash functions will move a file or folder to the recycle bin,\n",
    "while shutil functions will permanently delete files and folders."
   ]
  },
  {
   "cell_type": "code",
   "execution_count": null,
   "id": "a5de4635",
   "metadata": {},
   "outputs": [],
   "source": [
    "Q4:\n",
    "ZipFile objects have a close() method just like File object's close() method.\n",
    "What ZipFile method is equivalent to File object's open() method?"
   ]
  },
  {
   "cell_type": "code",
   "execution_count": null,
   "id": "b57b6363",
   "metadata": {},
   "outputs": [],
   "source": [
    "Ans4:\n",
    "The function zipfile.ZipFile() is equivalent to the open() function; the first argument is the name of file and \n",
    "the second argument is the mode in which the Zip file is opened (r, w, or a) read, write or append."
   ]
  },
  {
   "cell_type": "code",
   "execution_count": null,
   "id": "bd9a205e",
   "metadata": {},
   "outputs": [],
   "source": [
    "Q5:\n",
    "Create a programme that searches a folder tree for files with a certain file extension(such as .pdf or .jpg).\n",
    "Copy these files from whatever location they are in to a new folder."
   ]
  },
  {
   "cell_type": "code",
   "execution_count": null,
   "id": "0768c8f4",
   "metadata": {},
   "outputs": [],
   "source": [
    "Ans5:\n",
    "There are three functions that the Program must do:\n",
    "1. Create a programme that access a folder tree.\n",
    "2. Searches for files with a certain file extension (such as .pdf or .jpg).\n",
    "3. Copy these files from whatever location they are in to a new folder."
   ]
  },
  {
   "cell_type": "code",
   "execution_count": 1,
   "id": "f120c8b4",
   "metadata": {},
   "outputs": [],
   "source": [
    "#Code\n",
    "import os\n",
    "import shutil\n",
    "\n",
    "def Answer15(folder, extensions, folder2):\n",
    "    folder = os.path.abspath(folder)\n",
    "    folder2 = os.path.abspath(folder2)\n",
    "    print('Searching in', folder, 'for files with extensions:' , ', '.join(extensions))\n",
    "    for foldername, subfolders, filenames in os.walk(folder):\n",
    "        for filename in filenames:\n",
    "            name, ext = os.path.splitext(filename)\n",
    "            if ext in extensions:\n",
    "                FilePath = foldername + os.path.sep + filename\n",
    "                print('Copying', FilePath, 'to', folder2)\n",
    "                shutil.copy(FilePath, folder2)"
   ]
  },
  {
   "cell_type": "code",
   "execution_count": 2,
   "id": "a7cd3b5c",
   "metadata": {},
   "outputs": [
    {
     "name": "stdout",
     "output_type": "stream",
     "text": [
      "Searching in C:\\Users\\fhrt8\\Folder1 for files with extensions: .pdf, .jpg\n",
      "Copying C:\\Users\\fhrt8\\Folder1\\Sample_File.pdf to C:\\Users\\fhrt8\\Folder2\n",
      "Copying C:\\Users\\fhrt8\\Folder1\\.ipynb_checkpoints\\Sample_File-checkpoint.pdf to C:\\Users\\fhrt8\\Folder2\n"
     ]
    }
   ],
   "source": [
    "Answer15('Folder1', ['.pdf', '.jpg'], 'Folder2')"
   ]
  }
 ],
 "metadata": {
  "kernelspec": {
   "display_name": "Python 3 (ipykernel)",
   "language": "python",
   "name": "python3"
  },
  "language_info": {
   "codemirror_mode": {
    "name": "ipython",
    "version": 3
   },
   "file_extension": ".py",
   "mimetype": "text/x-python",
   "name": "python",
   "nbconvert_exporter": "python",
   "pygments_lexer": "ipython3",
   "version": "3.9.13"
  }
 },
 "nbformat": 4,
 "nbformat_minor": 5
}
